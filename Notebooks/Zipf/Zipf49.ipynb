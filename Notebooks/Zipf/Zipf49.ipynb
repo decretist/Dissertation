{
 "cells": [
  {
   "cell_type": "markdown",
   "metadata": {},
   "source": [
    "### Zipf (1949)"
   ]
  },
  {
   "cell_type": "code",
   "execution_count": 1,
   "metadata": {},
   "outputs": [],
   "source": [
    "def zipf_1949(n, scale, **kwargs):\n",
    "    '''\n",
    "    11 March 2020\n",
    "    generates and returns a scaled list of Zipf (1949) distribution rank-\n",
    "    frequency pairs of length n, e.g., zipf_distrib(4, 1000) returns:\n",
    "    [(1, 1000), (2, 500), (3, 333), (4, 250)]\n",
    "    '''\n",
    "    x_values = [x for x in range(1, n + 1)]\n",
    "    if 'slope' in kwargs:\n",
    "        slope = kwargs['slope']\n",
    "        y_values = [round((1 / pow(x, -slope)) * scale) for x in x_values]\n",
    "    else:\n",
    "        y_values = [round((1 / x) * scale) for x in x_values]\n",
    "    rank_frequency_pairs = list(zip(x_values, y_values))\n",
    "    return rank_frequency_pairs\n",
    "\n",
    "zipf_1949(4, 1000)"
   ]
  },
  {
   "cell_type": "code",
   "execution_count": 2,
   "metadata": {},
   "outputs": [],
   "source": [
    "import matplotlib.pyplot as pp\n",
    "\n",
    "def plot_data_scatter(data_points):\n",
    "    x_values, y_values = zip(*data_points)\n",
    "    pp.scatter(x_values, y_values)\n",
    "    pp.xlabel('$log_{e}$ rank')\n",
    "    pp.ylabel('$log_{e}$ frequency')"
   ]
  },
  {
   "cell_type": "code",
   "execution_count": 3,
   "metadata": {},
   "outputs": [],
   "source": [
    "import math\n",
    "\n",
    "def logify(data_points):\n",
    "    x_tmp, y_tmp = zip(*data_points)\n",
    "    x_values = list(x_tmp)\n",
    "    y_values = list(y_tmp)\n",
    "    x_log = [math.log(x) for x in x_values]\n",
    "    y_log = [math.log(y) for y in y_values]\n",
    "    return list(zip(x_log, y_log))"
   ]
  },
  {
   "cell_type": "code",
   "execution_count": 4,
   "metadata": {},
   "outputs": [],
   "source": [
    "import statistics\n",
    "\n",
    "def regression_slope(data_points):\n",
    "    n = len(data_points)\n",
    "    x_values, y_values = zip(*data_points)\n",
    "    x_bar = statistics.mean(x_values)\n",
    "    y_bar = statistics.mean(y_values)\n",
    "    xy_sum = 0\n",
    "    x_squared_sum = 0\n",
    "    for i in range(n):\n",
    "        xy_sum += x_values[i] * y_values[i]\n",
    "        x_squared_sum += x_values[i] ** 2\n",
    "    return (xy_sum - n * x_bar * y_bar) / (x_squared_sum - n * x_bar ** 2)"
   ]
  },
  {
   "cell_type": "code",
   "execution_count": 5,
   "metadata": {},
   "outputs": [],
   "source": [
    "def plot_regression(data_points):\n",
    "    x_values, y_values = zip(*data_points)\n",
    "    x_bar = statistics.mean(x_values)\n",
    "    y_bar = statistics.mean(y_values)\n",
    "    slope = regression_slope(data_points)\n",
    "    x_values = [0, max(x_values)]\n",
    "    y_values = []\n",
    "    for x in x_values:\n",
    "        y_values.append(y_bar + slope * (x - x_bar))\n",
    "    pp.plot(x_values, y_values)\n",
    "    return slope"
   ]
  },
  {
   "cell_type": "code",
   "execution_count": 6,
   "metadata": {},
   "outputs": [
    {
     "data": {
      "image/png": "[encoded data removed]",
      "text/plain": [
       "<Figure size 432x288 with 1 Axes>"
      ]
     },
     "metadata": {
      "needs_background": "light"
     },
     "output_type": "display_data"
    }
   ],
   "source": [
    "theoretical = zipf_1949(30, 10000)\n",
    "n = len(theoretical)\n",
    "plot_data_scatter(logify(theoretical[0:n]))\n",
    "slope = plot_regression(logify(theoretical[0:n]))\n",
    "pp.title(f'theoretical Zipf distribution for {n} MFWs\\n(log-log, slope = {slope:.1f})')\n",
    "pp.show()\n"
   ]
  }
 ],
 "metadata": {
  "kernelspec": {
   "display_name": "Python 3",
   "language": "python",
   "name": "python3"
  },
  "language_info": {
   "codemirror_mode": {
    "name": "ipython",
    "version": 3
   },
   "file_extension": ".py",
   "mimetype": "text/x-python",
   "name": "python",
   "nbconvert_exporter": "python",
   "pygments_lexer": "ipython3",
   "version": "3.8.2"
  }
 },
 "nbformat": 4,
 "nbformat_minor": 4
}

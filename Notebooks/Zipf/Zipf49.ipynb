{
 "cells": [
  {
   "cell_type": "markdown",
   "metadata": {},
   "source": [
    "### Figure Za"
   ]
  },
  {
   "cell_type": "code",
   "execution_count": null,
   "metadata": {},
   "outputs": [],
   "source": [
    "def zipf_1949_theoretical(n, scale, **kwargs):\n",
    "    '''\n",
    "    11 March 2020\n",
    "    generates and returns a scaled list of Zipf (1949) distribution rank-\n",
    "    frequency pairs of length n, e.g., zipf_distrib(4, 1000) returns:\n",
    "    [(1, 1000), (2, 500), (3, 333), (4, 250)]\n",
    "    '''\n",
    "    x_values = [x for x in range(1, n + 1)]\n",
    "    if 'slope' in kwargs:\n",
    "        slope = kwargs['slope']\n",
    "        y_values = [round((1 / pow(x, -slope)) * scale) for x in x_values]\n",
    "    else:\n",
    "        y_values = [round((1 / x) * scale) for x in x_values]\n",
    "    rank_frequency_pairs = list(zip(x_values, y_values))\n",
    "    return rank_frequency_pairs"
   ]
  },
  {
   "cell_type": "code",
   "execution_count": null,
   "metadata": {},
   "outputs": [],
   "source": [
    "import matplotlib.pyplot as pp\n",
    "\n",
    "def plot_data_bar(data_points):\n",
    "    x_values, y_values = zip(*data_points)\n",
    "    pp.bar(x_values, y_values)\n",
    "    pp.ylabel('frequency')"
   ]
  },
  {
   "cell_type": "code",
   "execution_count": null,
   "metadata": {},
   "outputs": [],
   "source": [
    "scale = 2187\n",
    "theoretical = zipf_1949_theoretical(30, scale)\n",
    "# pp.figure(figsize=(12, 8)) # Jupyter\n",
    "pp.figure(figsize=(6.4, 4.8), dpi=100) # print\n",
    "plot_data_bar(theoretical)\n",
    "pp.xlabel('rank')\n",
    "pp.title(f'theoretical Zipf distribution for {len(theoretical)} MFWs')\n",
    "pp.xticks([(x + 1) * 5 for x in range(len(theoretical) // 5)])\n",
    "# pp.savefig('./PNGs/Figure_Za')\n",
    "pp.show()\n",
    "pp.close()"
   ]
  },
  {
   "cell_type": "markdown",
   "metadata": {},
   "source": [
    "### Figure Zb"
   ]
  },
  {
   "cell_type": "code",
   "execution_count": null,
   "metadata": {},
   "outputs": [],
   "source": [
    "def plot_data_scatter(data_points):\n",
    "    x_values, y_values = zip(*data_points)\n",
    "    pp.scatter(x_values, y_values)\n",
    "    pp.xlabel('$log_{e}$ rank')\n",
    "    pp.ylabel('$log_{e}$ frequency')"
   ]
  },
  {
   "cell_type": "code",
   "execution_count": null,
   "metadata": {},
   "outputs": [],
   "source": [
    "import math\n",
    "\n",
    "def logify(data_points):\n",
    "    x_tmp, y_tmp = zip(*data_points)\n",
    "    x_values = list(x_tmp)\n",
    "    y_values = list(y_tmp)\n",
    "    x_log = [math.log(x) for x in x_values]\n",
    "    y_log = [math.log(y) for y in y_values]\n",
    "    return list(zip(x_log, y_log))"
   ]
  },
  {
   "cell_type": "code",
   "execution_count": null,
   "metadata": {},
   "outputs": [],
   "source": [
    "import statistics\n",
    "\n",
    "def regression_slope(data_points):\n",
    "    n = len(data_points)\n",
    "    x_values, y_values = zip(*data_points)\n",
    "    x_bar = statistics.mean(x_values)\n",
    "    y_bar = statistics.mean(y_values)\n",
    "    xy_sum = 0\n",
    "    x_squared_sum = 0\n",
    "    for i in range(n):\n",
    "        xy_sum += x_values[i] * y_values[i]\n",
    "        x_squared_sum += x_values[i] ** 2\n",
    "    return (xy_sum - n * x_bar * y_bar) / (x_squared_sum - n * x_bar ** 2)"
   ]
  },
  {
   "cell_type": "code",
   "execution_count": null,
   "metadata": {},
   "outputs": [],
   "source": [
    "def plot_regression(data_points):\n",
    "    x_values, y_values = zip(*data_points)\n",
    "    x_bar = statistics.mean(x_values)\n",
    "    y_bar = statistics.mean(y_values)\n",
    "    slope = regression_slope(data_points)\n",
    "    x_values = [0, max(x_values)]\n",
    "    y_values = []\n",
    "    for x in x_values:\n",
    "        y_values.append(y_bar + slope * (x - x_bar))\n",
    "    pp.plot(x_values, y_values)\n",
    "    return slope"
   ]
  },
  {
   "cell_type": "code",
   "execution_count": null,
   "metadata": {},
   "outputs": [],
   "source": [
    "n = len(theoretical)\n",
    "# pp.figure(figsize=(12, 8)) # Jupyter\n",
    "pp.figure(figsize=(6.4, 4.8), dpi=100) # print\n",
    "plot_data_scatter(logify(theoretical[0:n]))\n",
    "slope = plot_regression(logify(theoretical[0:n]))\n",
    "pp.title(f'theoretical Zipf distribution for {n} MFWs\\n(log-log, slope = {slope:.1f})')\n",
    "# pp.savefig('./PNGs/Figure_Zb')\n",
    "pp.show()\n",
    "pp.close()"
   ]
  },
  {
   "cell_type": "markdown",
   "metadata": {},
   "source": [
    "### Figure Zc"
   ]
  },
  {
   "cell_type": "code",
   "execution_count": null,
   "metadata": {},
   "outputs": [],
   "source": [
    "import re\n",
    "\n",
    "def get_tokens(filename):\n",
    "    '''open text file and return list of tokens'''\n",
    "    # text = open(filename, 'r').read().lower()\n",
    "    f = open(filename, 'r') # open file\n",
    "    text = f.read() # read file\n",
    "    text = text.lower() # lower-case text\n",
    "    tokens = [word for word in re.split('\\W', text) if word != ''] # remove punctuation\n",
    "    return tokens"
   ]
  },
  {
   "cell_type": "code",
   "execution_count": null,
   "metadata": {},
   "outputs": [],
   "source": [
    "def get_features(samples):\n",
    "    tokens = []\n",
    "    for sample in samples:\n",
    "        tokens += get_tokens('../corpus/' + sample + '.txt')\n",
    "    types = list(set(tokens)) # create unordered list of unique words\n",
    "    tmp = dict.fromkeys(types, 0) # create temporary dictionary, initialize counts to 0\n",
    "    for token in tokens: tmp[token] += 1 # count words\n",
    "    # re-order words in temporary dictionary numerically by descending frequency\n",
    "    # re-order words with same frequency alphabetically\n",
    "    features = { \n",
    "        key: value for key, value in sorted(tmp.items(),\n",
    "        key = lambda item: (-item[1], item[0]))\n",
    "    }\n",
    "    return features"
   ]
  },
  {
   "cell_type": "code",
   "execution_count": null,
   "metadata": {},
   "outputs": [],
   "source": [
    "def zipf_1949_actual(features):\n",
    "    '''convert dictionary of features to list of rank-frequency pairs'''\n",
    "    frequencies = list(features.values())\n",
    "    rank_frequency_pairs = []\n",
    "    for rank in range(0, len(features)):\n",
    "        rank_frequency_pairs.append((rank + 1, frequencies[rank]))\n",
    "    return rank_frequency_pairs"
   ]
  },
  {
   "cell_type": "code",
   "execution_count": null,
   "metadata": {},
   "outputs": [],
   "source": [
    "import itertools\n",
    "\n",
    "samples = ['Gratian0', 'Gratian1', 'dePen', 'Gratian2']\n",
    "features = get_features(samples)\n",
    "actual = zipf_1949_actual(features)\n",
    "# pp.figure(figsize=(12, 8)) # Jupyter\n",
    "pp.figure(figsize=[9.6, 6.4], dpi=100) # print\n",
    "plot_data_bar(actual[:30])\n",
    "ranks = [rank for rank, frequency in actual[:30]]\n",
    "words = list(dict(itertools.islice(get_features(samples).items(), 30)))\n",
    "pp.xticks(ranks, words, rotation='vertical')\n",
    "pp.title(f\"actual Zipf distribution for 30 MFWs from Gratian's \" + '$\\it{dicta}$')\n",
    "# pp.savefig('./PNGs/Figure_Zc')\n",
    "pp.show()\n",
    "pp.close()"
   ]
  },
  {
   "cell_type": "markdown",
   "metadata": {},
   "source": [
    "### Figure Zd"
   ]
  },
  {
   "cell_type": "code",
   "execution_count": null,
   "metadata": {},
   "outputs": [],
   "source": [
    "# pp.figure(figsize=(12, 8)) # Jupyter\n",
    "pp.figure(figsize=(6.4, 4.8), dpi=100) # print\n",
    "plot_data_scatter(logify(actual[:30]))\n",
    "slope = plot_regression(logify(actual[:30]))\n",
    "pp.title(f\"actual Zipf distribution for {30} MFWs from Gratian's \" + '$\\it{dicta}$\\n' + f'(log-log, slope = {slope:.4f})')\n",
    "# pp.savefig('./PNGs/Figure_Zd')\n",
    "pp.show()\n",
    "pp.close()"
   ]
  },
  {
   "cell_type": "markdown",
   "metadata": {},
   "source": [
    "### Figure Ze"
   ]
  },
  {
   "cell_type": "code",
   "execution_count": null,
   "metadata": {},
   "outputs": [],
   "source": [
    "# pp.figure(figsize=(12, 8)) # Jupyter\n",
    "pp.figure(figsize=(6.4, 4.8), dpi=100) # print\n",
    "plot_data_scatter(logify(actual))\n",
    "slope = plot_regression(logify(actual))\n",
    "pp.title(f\"actual Zipf distribution for {len(actual)} MFWs from Gratian's \" + '$\\it{dicta}$\\n' + f'(log-log, slope = {slope:.4f})')\n",
    "# pp.savefig('./PNGs/Figure_Ze')\n",
    "pp.show()\n",
    "pp.close()"
   ]
  },
  {
   "cell_type": "code",
   "execution_count": null,
   "metadata": {
    "scrolled": false
   },
   "outputs": [],
   "source": [
    "for n in [40, 400, 4000, 40000]:\n",
    "    pp.figure(figsize=(12, 8)) # Jupyter\n",
    "    plot_data_scatter(logify(actual[:n]))\n",
    "    slope = plot_regression(logify(actual[:n]))\n",
    "    pp.title(f\"actual Zipf distribution for {n} MFWs from Gratian's \" + '$\\it{dicta}$\\n' + f'(log-log, slope = {slope:.4f})')\n",
    "    pp.show()\n",
    "    pp.close()"
   ]
  }
 ],
 "metadata": {
  "kernelspec": {
   "display_name": "Python 3",
   "language": "python",
   "name": "python3"
  },
  "language_info": {
   "codemirror_mode": {
    "name": "ipython",
    "version": 3
   },
   "file_extension": ".py",
   "mimetype": "text/x-python",
   "name": "python",
   "nbconvert_exporter": "python",
   "pygments_lexer": "ipython3",
   "version": "3.8.2"
  }
 },
 "nbformat": 4,
 "nbformat_minor": 4
}

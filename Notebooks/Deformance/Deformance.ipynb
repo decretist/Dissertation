{
 "cells": [
  {
   "cell_type": "markdown",
   "metadata": {},
   "source": [
    "```python\n",
    "import re\n",
    "\n",
    "f = open('edF.txt', 'r')\n",
    "file = f.read()\n",
    "# (?<=...) positive lookbehind assertion.\n",
    "dicta = re.findall('(?:\\<T [AP]\\>|(?<=\\<T [AP]\\>))(.*?)'    # dictum starts with dictum ante or dictum post tag.\n",
    "    '(?:'                   # non-capturing group.\n",
    "        '\\<1 [CD][CP]?\\>|'  # dictum ends with major division,\n",
    "        '\\<2 \\d{1,3}\\>|'    # or number of major division,\n",
    "        '\\<3 \\d{1,2}\\>|'    # or number of question,\n",
    "        '\\<4 \\d{1,3}\\>|'    # or number of canon,\n",
    "        '\\<P 1\\>|'          # or Palea,\n",
    "        '\\<T [AIPRT]\\>'      # or inscription or text tag.\n",
    "    ')', file, re.S)        # re.S (re.DOTALL) makes '.' special character match any character including newline.\n",
    "print(dicta)\n",
    "```"
   ]
  },
  {
   "cell_type": "code",
   "execution_count": 1,
   "metadata": {},
   "outputs": [
    {
     "name": "stdout",
     "output_type": "stream",
     "text": [
      " -Gratian.+ Ecce, quomodo serui ad clericatum ualeant assumi,\n",
      "uel quomodo non admittantur. Liberti quoque non sunt promouendi\n",
      "ad clerum, nisi ab obsequiis sui patroni fuerint absoluti.\n",
      "Unde in Concilio Eliberitano: -[c. 80.]+\n",
      "\n"
     ]
    },
    {
     "name": "stderr",
     "output_type": "stream",
     "text": [
      "expected 1273 dicta, found 1273 dicta\n"
     ]
    }
   ],
   "source": [
    "import re\n",
    "import sys\n",
    "\n",
    "f = open('edF.txt', 'r')\n",
    "file = f.read()\n",
    "toc = open('toc_all.txt', 'r')\n",
    "dictionary_Fr = {} # Friedberg\n",
    "dictionary_1r = {} # first recension\n",
    "dictionary_2r = {} # second recension\n",
    "# (?<=...) positive lookbehind assertion.\n",
    "dicta = re.findall('(?:\\<T [AP]\\>|(?<=\\<T [AP]\\>))(.*?)'    # dictum starts with dictum ante or dictum post tag.\n",
    "    '(?:'                   # non-capturing group.\n",
    "        '\\<1 [CD][CP]?\\>|'  # dictum ends with major division,\n",
    "        '\\<2 \\d{1,3}\\>|'    # or number of major division,\n",
    "        '\\<3 \\d{1,2}\\>|'    # or number of question,\n",
    "        '\\<4 \\d{1,3}\\>|'    # or number of canon,\n",
    "        '\\<P 1\\>|'          # or Palea,\n",
    "        '\\<T [AIPRT]\\>'     # or inscription or text tag.\n",
    "    ')', file, re.S)        # re.S (re.DOTALL) makes '.' special character match any character including newline.\n",
    "print('expected 1273 dicta, found ' + str(len(dicta)) + ' dicta', file=sys.stderr)\n",
    "print(dicta[188])"
   ]
  },
  {
   "cell_type": "code",
   "execution_count": 2,
   "metadata": {},
   "outputs": [
    {
     "name": "stdout",
     "output_type": "stream",
     "text": [
      "Ecce, quomodo serui ad clericatum ualeant assumi, uel quomodo non admittantur. Liberti quoque non sunt promouendi ad clerum, nisi ab obsequiis sui patroni fuerint absoluti. Unde in Concilio Eliberitano:\n"
     ]
    }
   ],
   "source": [
    "for dictum in dicta:\n",
    "    dictum = re.sub('\\<S \\d{1,4}\\>\\<L 1\\> \\-\\d{1,4}\\+', '', dictum) # remove page and line number tags.\n",
    "    dictum = re.sub('\\<P 1\\> \\-\\[PALEA\\.\\+', '', dictum)    # remove Palea tags.\n",
    "    dictum = re.sub('\\-.*?\\+', '', dictum)\n",
    "    dictum = re.sub(re.compile('\\-\\[.*?\\]\\+', re.S), '', dictum)\n",
    "    dictum = re.sub('\\s+', ' ', dictum)\n",
    "    dictum = re.sub('^\\s+', '', dictum) # remove leading whitespace characters\n",
    "    dictum = re.sub('\\s+$', '', dictum) # remove trailing whitespace characters\n",
    "    key = toc.readline().rstrip()\n",
    "    if key in dictionary_Fr:\n",
    "    # if there's already a dictionary entry with this key, merge the entries\n",
    "        # print('duplicate key: ' + key, file=sys.stderr)\n",
    "        dictum = dictionary_Fr[key] + ' ' + dictum\n",
    "    dictionary_Fr[key] = dictum\n",
    "print(dictionary_Fr['D.54 d.p.c.23'])"
   ]
  },
  {
   "cell_type": "code",
   "execution_count": 3,
   "metadata": {},
   "outputs": [
    {
     "name": "stdout",
     "output_type": "stream",
     "text": [
      "{'D.54 d.p.c.23': 'Ecce, quomodo serui ad clericatum ualeant assumi, uel quomodo non admittantur.'}\n",
      "{'D.54 d.p.c.23': ' Liberti quoque non sunt promouendi ad clerum, nisi ab obsequiis sui patroni fuerint absoluti. Unde in Concilio Eliberitano:'}\n"
     ]
    }
   ],
   "source": [
    "import re\n",
    "\n",
    "dictionary_1r = {} # first recension paratext\n",
    "dictionary_2r = {} # second recension paratext\n",
    "dictionary_Fr = {'D.54 d.p.c.23': 'Ecce, quomodo serui ad clericatum ualeant assumi, uel quomodo non admittantur. Liberti quoque non sunt promouendi ad clerum, nisi ab obsequiis sui patroni fuerint absoluti. Unde in Concilio Eliberitano:'}\n",
    "keysandpatterns = [{'key': 'D.54 d.p.c.23', 'pattern': '(Ecce, quomodo serui.*?quomodo non admittantur\\.)'}]\n",
    "for i in range (len(keysandpatterns)):\n",
    "    key = keysandpatterns[i]['key']\n",
    "    pattern = keysandpatterns[i]['pattern']\n",
    "    result = re.search(pattern, dictionary_Fr[key])\n",
    "    dictionary_1r[key] = result.group(1)\n",
    "    dictionary_2r[key] = re.sub(pattern, '', dictionary_Fr[key])\n",
    "print(dictionary_1r)\n",
    "print(dictionary_2r)"
   ]
  }
 ],
 "metadata": {
  "kernelspec": {
   "display_name": "Python 3",
   "language": "python",
   "name": "python3"
  },
  "language_info": {
   "codemirror_mode": {
    "name": "ipython",
    "version": 3
   },
   "file_extension": ".py",
   "mimetype": "text/x-python",
   "name": "python",
   "nbconvert_exporter": "python",
   "pygments_lexer": "ipython3",
   "version": "3.8.2"
  }
 },
 "nbformat": 4,
 "nbformat_minor": 4
}

{
 "cells": [
  {
   "cell_type": "markdown",
   "metadata": {},
   "source": [
    "### Deformance and paratext"
   ]
  },
  {
   "cell_type": "markdown",
   "metadata": {},
   "source": [
    "The deformance algorithm used to generate the paratexts described in the previous section on the definition of the first- and second-recension *dicta* was implemented in the form of a 201-line Python program. The program reads the MGH e-text of the Friedberg edition, and parses it to extract the *dicta*. The Oxford Concordance Program (OCP) format in which the e-text is encoded is extremely difficult to parse because it is not tree-structured---it has start tags for textual elements such as canons and *dicta*, cases and distinctions, but not (unlike XML) end tags.[@hockey_history_2004] The extraction engine captures every element of text between a *dictum* start tag (`<T A>` or `<T P>`) and the start tag for the next element that can possibly follow a *dictum*:\n",
    "\n",
    "```python\n",
    "import re\n",
    "\n",
    "f = open('edF.txt', 'r')\n",
    "file = f.read()\n",
    "# (?<=...) positive lookbehind assertion.\n",
    "dicta = re.findall('(?:\\<T [AP]\\>|(?<=\\<T [AP]\\>))(.*?)'    # dictum starts with dictum ante or dictum post tag.\n",
    "    '(?:'                   # non-capturing group.\n",
    "        '\\<1 [CD][CP]?\\>|'  # dictum ends with major division,\n",
    "        '\\<2 \\d{1,3}\\>|'    # or number of major division,\n",
    "        '\\<3 \\d{1,2}\\>|'    # or number of question,\n",
    "        '\\<4 \\d{1,3}\\>|'    # or number of canon,\n",
    "        '\\<P 1\\>|'          # or Palea,\n",
    "        '\\<T [AIPRT]\\>'      # or inscription or text tag.\n",
    "    ')', file, re.S)        # re.S (re.DOTALL) makes '.' special character match any character including newline.\n",
    "print(dicta)\n",
    "```"
   ]
  },
  {
   "cell_type": "code",
   "execution_count": 1,
   "metadata": {},
   "outputs": [
    {
     "name": "stdout",
     "output_type": "stream",
     "text": [
      " -Gratian.+ Ecce, quomodo serui ad clericatum ualeant assumi,\n",
      "uel quomodo non admittantur. Liberti quoque non sunt promouendi\n",
      "ad clerum, nisi ab obsequiis sui patroni fuerint absoluti.\n",
      "Unde in Concilio Eliberitano: -[c. 80.]+\n",
      "\n"
     ]
    },
    {
     "name": "stderr",
     "output_type": "stream",
     "text": [
      "expected 1273 dicta, found 1273 dicta\n"
     ]
    }
   ],
   "source": [
    "import re\n",
    "import sys\n",
    "\n",
    "f = open('edF.txt', 'r')\n",
    "file = f.read()\n",
    "toc = open('toc_all.txt', 'r')\n",
    "dictionary_Fr = {} # Friedberg\n",
    "dictionary_1r = {} # first recension\n",
    "dictionary_2r = {} # second recension\n",
    "# (?<=...) positive lookbehind assertion.\n",
    "dicta = re.findall('(?:\\<T [AP]\\>|(?<=\\<T [AP]\\>))(.*?)'    # dictum starts with dictum ante or dictum post tag.\n",
    "    '(?:'                   # non-capturing group.\n",
    "        '\\<1 [CD][CP]?\\>|'  # dictum ends with major division,\n",
    "        '\\<2 \\d{1,3}\\>|'    # or number of major division,\n",
    "        '\\<3 \\d{1,2}\\>|'    # or number of question,\n",
    "        '\\<4 \\d{1,3}\\>|'    # or number of canon,\n",
    "        '\\<P 1\\>|'          # or Palea,\n",
    "        '\\<T [AIPRT]\\>'     # or inscription or text tag.\n",
    "    ')', file, re.S)        # re.S (re.DOTALL) makes '.' special character match any character including newline.\n",
    "print('expected 1273 dicta, found ' + str(len(dicta)) + ' dicta', file=sys.stderr)\n",
    "print(dicta[188])"
   ]
  },
  {
   "cell_type": "markdown",
   "metadata": {},
   "source": [
    "The extracted *dicta* require considerable scrubbing before they can be used. Here, for example, is what D.54 d.p.c.23 looks like in its raw state:\n",
    "\n",
    "```python\n",
    "[' -Gratian.+ Ecce, quomodo serui ad clericatum ualeant assumi,\\n\n",
    "uel quomodo non admittantur. Liberti quoque non sunt promouendi\\n\n",
    "ad clerum, nisi ab obsequiis sui patroni fuerint absoluti.\\n\n",
    "Unde in Concilio Eliberitano: -[c. 80.]+\\n']\n",
    "```\n",
    "\n",
    "Each *dictum* is then processed into an item (key-value pair) in a Python dictionary:"
   ]
  },
  {
   "cell_type": "code",
   "execution_count": 2,
   "metadata": {},
   "outputs": [
    {
     "name": "stdout",
     "output_type": "stream",
     "text": [
      "Ecce, quomodo serui ad clericatum ualeant assumi, uel quomodo non admittantur. Liberti quoque non sunt promouendi ad clerum, nisi ab obsequiis sui patroni fuerint absoluti. Unde in Concilio Eliberitano:\n"
     ]
    }
   ],
   "source": [
    "for dictum in dicta:\n",
    "    dictum = re.sub('\\<S \\d{1,4}\\>\\<L 1\\> \\-\\d{1,4}\\+', '', dictum) # remove page and line number tags.\n",
    "    dictum = re.sub('\\<P 1\\> \\-\\[PALEA\\.\\+', '', dictum)    # remove Palea tags.\n",
    "    dictum = re.sub('\\-.*?\\+', '', dictum)\n",
    "    dictum = re.sub(re.compile('\\-\\[.*?\\]\\+', re.S), '', dictum)\n",
    "    dictum = re.sub('\\s+', ' ', dictum)\n",
    "    dictum = re.sub('^\\s+', '', dictum) # remove leading whitespace characters\n",
    "    dictum = re.sub('\\s+$', '', dictum) # remove trailing whitespace characters\n",
    "    key = toc.readline().rstrip()\n",
    "    if key in dictionary_Fr:\n",
    "    # if there's already a dictionary entry with this key, merge the entries\n",
    "        # print('duplicate key: ' + key, file=sys.stderr)\n",
    "        dictum = dictionary_Fr[key] + ' ' + dictum\n",
    "    dictionary_Fr[key] = dictum\n",
    "print(dictionary_Fr['D.54 d.p.c.23'])"
   ]
  },
  {
   "cell_type": "markdown",
   "metadata": {},
   "source": [
    "```python\n",
    "{'D.54 d.p.c.23': 'Ecce, quomodo serui ad clericatum ualeant assumi, uel quomodo non admittantur. Liberti quoque non sunt promouendi ad clerum, nisi ab obsequiis sui patroni fuerint absoluti. Unde in Concilio Eliberitano:'}\n",
    "```\n",
    "\n",
    "The first recension variants from the Friedberg edition recorded in Winroth's appendix are then encoded as a list of dictionaries in which the `'pattern'` item is the variant represented as a Python regular expression:\n",
    "\n",
    "```python\n",
    "[{'key': 'D.54 d.p.c.23', 'pattern': '(Ecce, quomodo serui.*?quomodo non admittantur\\.)'}]\n",
    "```\n",
    "\n",
    "Finally, the deformance engine uses the variants encoded as regular expression patterns to generate the first and second paratexts corresponding the first- and second-recension *dicta*. For each *dictum*, the text matching the pattern is inserted into a dictionary representing the first recension paratext; then the text resulting when the text matching the pattern is replaced by the null string `''` is inserted into a dictionary representing the second recension paratext:"
   ]
  },
  {
   "cell_type": "code",
   "execution_count": 3,
   "metadata": {},
   "outputs": [
    {
     "name": "stdout",
     "output_type": "stream",
     "text": [
      "{'D.54 d.p.c.23': 'Ecce, quomodo serui ad clericatum ualeant assumi, uel quomodo non admittantur.'}\n",
      "{'D.54 d.p.c.23': ' Liberti quoque non sunt promouendi ad clerum, nisi ab obsequiis sui patroni fuerint absoluti. Unde in Concilio Eliberitano:'}\n"
     ]
    }
   ],
   "source": [
    "import re\n",
    "\n",
    "dictionary_1r = {} # first recension paratext\n",
    "dictionary_2r = {} # second recension paratext\n",
    "dictionary_Fr = {'D.54 d.p.c.23': 'Ecce, quomodo serui ad clericatum ualeant assumi, uel quomodo non admittantur. Liberti quoque non sunt promouendi ad clerum, nisi ab obsequiis sui patroni fuerint absoluti. Unde in Concilio Eliberitano:'}\n",
    "keysandpatterns = [{'key': 'D.54 d.p.c.23', 'pattern': '(Ecce, quomodo serui.*?quomodo non admittantur\\.)'}]\n",
    "for i in range (len(keysandpatterns)):\n",
    "    key = keysandpatterns[i]['key']\n",
    "    pattern = keysandpatterns[i]['pattern']\n",
    "    result = re.search(pattern, dictionary_Fr[key])\n",
    "    dictionary_1r[key] = result.group(1)\n",
    "    dictionary_2r[key] = re.sub(pattern, '', dictionary_Fr[key])\n",
    "print(dictionary_1r)\n",
    "print(dictionary_2r)"
   ]
  },
  {
   "cell_type": "markdown",
   "metadata": {},
   "source": [
    "Here is the resulting first recension paratext:\n",
    "\n",
    "```python\n",
    "{'D.54 d.p.c.23': 'Ecce, quomodo serui ad clericatum ualeant assumi, uel quomodo non admittantur.'}\n",
    "```\n",
    "and the corresponding second recension paratext:\n",
    "\n",
    "```python\n",
    "{'D.54 d.p.c.23': 'Liberti quoque non sunt promouendi ad clerum, nisi ab obsequiis sui patroni fuerint absoluti. Unde in Concilio Eliberitano:'}\n",
    "```"
   ]
  },
  {
   "cell_type": "code",
   "execution_count": null,
   "metadata": {},
   "outputs": [],
   "source": []
  }
 ],
 "metadata": {
  "kernelspec": {
   "display_name": "Python 3",
   "language": "python",
   "name": "python3"
  },
  "language_info": {
   "codemirror_mode": {
    "name": "ipython",
    "version": 3
   },
   "file_extension": ".py",
   "mimetype": "text/x-python",
   "name": "python",
   "nbconvert_exporter": "python",
   "pygments_lexer": "ipython3",
   "version": "3.8.2"
  }
 },
 "nbformat": 4,
 "nbformat_minor": 4
}

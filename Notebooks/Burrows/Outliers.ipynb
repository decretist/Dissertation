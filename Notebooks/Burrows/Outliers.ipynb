{
 "cells": [
  {
   "cell_type": "markdown",
   "metadata": {},
   "source": [
    "### Outliers"
   ]
  },
  {
   "cell_type": "code",
   "execution_count": 1,
   "metadata": {},
   "outputs": [],
   "source": [
    "import Utility"
   ]
  },
  {
   "cell_type": "code",
   "execution_count": 2,
   "metadata": {},
   "outputs": [],
   "source": [
    "Utility.path = './corpus/a/'"
   ]
  },
  {
   "cell_type": "code",
   "execution_count": 3,
   "metadata": {},
   "outputs": [
    {
     "data": {
      "text/html": [
       "<div>\n",
       "<style scoped>\n",
       "    .dataframe tbody tr th:only-of-type {\n",
       "        vertical-align: middle;\n",
       "    }\n",
       "\n",
       "    .dataframe tbody tr th {\n",
       "        vertical-align: top;\n",
       "    }\n",
       "\n",
       "    .dataframe thead th {\n",
       "        text-align: right;\n",
       "    }\n",
       "</style>\n",
       "<table border=\"1\" class=\"dataframe\">\n",
       "  <thead>\n",
       "    <tr style=\"text-align: right;\">\n",
       "      <th></th>\n",
       "      <th>mean</th>\n",
       "    </tr>\n",
       "  </thead>\n",
       "  <tbody>\n",
       "    <tr>\n",
       "      <th>in</th>\n",
       "      <td>26.4656</td>\n",
       "    </tr>\n",
       "    <tr>\n",
       "      <th>non</th>\n",
       "      <td>24.0765</td>\n",
       "    </tr>\n",
       "    <tr>\n",
       "      <th>an</th>\n",
       "      <td>1.3815</td>\n",
       "    </tr>\n",
       "    <tr>\n",
       "      <th>si</th>\n",
       "      <td>9.2665</td>\n",
       "    </tr>\n",
       "    <tr>\n",
       "      <th>quomodo</th>\n",
       "      <td>1.0809</td>\n",
       "    </tr>\n",
       "  </tbody>\n",
       "</table>\n",
       "</div>"
      ],
      "text/plain": [
       "           mean\n",
       "in      26.4656\n",
       "non     24.0765\n",
       "an       1.3815\n",
       "si       9.2665\n",
       "quomodo  1.0809"
      ]
     },
     "execution_count": 3,
     "metadata": {},
     "output_type": "execute_result"
    }
   ],
   "source": [
    "import pandas as pd\n",
    "\n",
    "limit = 4 # 4 most frequent words (MFWs)\n",
    "samples = ['Gratian1', 'dePen', 'Gratian2']\n",
    "unknown = 'Gratian0'\n",
    "features = Utility.get_features(samples)\n",
    "# mfws = list(features.keys())[:limit]\n",
    "mfws = ['in', 'non', 'an', 'si', 'quomodo']\n",
    "counts = Utility.get_counts(mfws, [unknown] + samples)\n",
    "lengths = Utility.get_lengths([unknown] + samples)\n",
    "frequencies = (counts / lengths.values) * 1000\n",
    "means = frequencies[samples].mean(axis = 1).to_frame('mean')\n",
    "standard_deviations = frequencies[samples].std(axis = 1).to_frame('std')\n",
    "z_scores = (frequencies - means.values) / standard_deviations.values\n",
    "pd.options.display.float_format = '{:,.4f}'.format\n",
    "means"
   ]
  },
  {
   "cell_type": "code",
   "execution_count": 4,
   "metadata": {},
   "outputs": [
    {
     "data": {
      "text/html": [
       "<div>\n",
       "<style scoped>\n",
       "    .dataframe tbody tr th:only-of-type {\n",
       "        vertical-align: middle;\n",
       "    }\n",
       "\n",
       "    .dataframe tbody tr th {\n",
       "        vertical-align: top;\n",
       "    }\n",
       "\n",
       "    .dataframe thead th {\n",
       "        text-align: right;\n",
       "    }\n",
       "</style>\n",
       "<table border=\"1\" class=\"dataframe\">\n",
       "  <thead>\n",
       "    <tr style=\"text-align: right;\">\n",
       "      <th></th>\n",
       "      <th>std</th>\n",
       "    </tr>\n",
       "  </thead>\n",
       "  <tbody>\n",
       "    <tr>\n",
       "      <th>in</th>\n",
       "      <td>2.0691</td>\n",
       "    </tr>\n",
       "    <tr>\n",
       "      <th>non</th>\n",
       "      <td>2.6598</td>\n",
       "    </tr>\n",
       "    <tr>\n",
       "      <th>an</th>\n",
       "      <td>0.5011</td>\n",
       "    </tr>\n",
       "    <tr>\n",
       "      <th>si</th>\n",
       "      <td>2.6245</td>\n",
       "    </tr>\n",
       "    <tr>\n",
       "      <th>quomodo</th>\n",
       "      <td>1.4119</td>\n",
       "    </tr>\n",
       "  </tbody>\n",
       "</table>\n",
       "</div>"
      ],
      "text/plain": [
       "           std\n",
       "in      2.0691\n",
       "non     2.6598\n",
       "an      0.5011\n",
       "si      2.6245\n",
       "quomodo 1.4119"
      ]
     },
     "execution_count": 4,
     "metadata": {},
     "output_type": "execute_result"
    }
   ],
   "source": [
    "standard_deviations"
   ]
  },
  {
   "cell_type": "code",
   "execution_count": 5,
   "metadata": {},
   "outputs": [
    {
     "data": {
      "text/html": [
       "<div>\n",
       "<style scoped>\n",
       "    .dataframe tbody tr th:only-of-type {\n",
       "        vertical-align: middle;\n",
       "    }\n",
       "\n",
       "    .dataframe tbody tr th {\n",
       "        vertical-align: top;\n",
       "    }\n",
       "\n",
       "    .dataframe thead th {\n",
       "        text-align: right;\n",
       "    }\n",
       "</style>\n",
       "<table border=\"1\" class=\"dataframe\">\n",
       "  <thead>\n",
       "    <tr style=\"text-align: right;\">\n",
       "      <th></th>\n",
       "      <th>Gratian0</th>\n",
       "      <th>Gratian1</th>\n",
       "      <th>dePen</th>\n",
       "      <th>Gratian2</th>\n",
       "    </tr>\n",
       "  </thead>\n",
       "  <tbody>\n",
       "    <tr>\n",
       "      <th>in</th>\n",
       "      <td>20.5270</td>\n",
       "      <td>25.5673</td>\n",
       "      <td>24.9975</td>\n",
       "      <td>28.8320</td>\n",
       "    </tr>\n",
       "    <tr>\n",
       "      <th>non</th>\n",
       "      <td>6.6574</td>\n",
       "      <td>23.9804</td>\n",
       "      <td>26.7831</td>\n",
       "      <td>21.4662</td>\n",
       "    </tr>\n",
       "    <tr>\n",
       "      <th>an</th>\n",
       "      <td>39.1123</td>\n",
       "      <td>1.3577</td>\n",
       "      <td>0.8928</td>\n",
       "      <td>1.8941</td>\n",
       "    </tr>\n",
       "    <tr>\n",
       "      <th>si</th>\n",
       "      <td>14.4244</td>\n",
       "      <td>6.2420</td>\n",
       "      <td>10.6140</td>\n",
       "      <td>10.9435</td>\n",
       "    </tr>\n",
       "    <tr>\n",
       "      <th>quomodo</th>\n",
       "      <td>0.8322</td>\n",
       "      <td>0.5642</td>\n",
       "      <td>2.6783</td>\n",
       "      <td>0.0000</td>\n",
       "    </tr>\n",
       "  </tbody>\n",
       "</table>\n",
       "</div>"
      ],
      "text/plain": [
       "         Gratian0  Gratian1   dePen  Gratian2\n",
       "in        20.5270   25.5673 24.9975   28.8320\n",
       "non        6.6574   23.9804 26.7831   21.4662\n",
       "an        39.1123    1.3577  0.8928    1.8941\n",
       "si        14.4244    6.2420 10.6140   10.9435\n",
       "quomodo    0.8322    0.5642  2.6783    0.0000"
      ]
     },
     "execution_count": 5,
     "metadata": {},
     "output_type": "execute_result"
    }
   ],
   "source": [
    "frequencies"
   ]
  },
  {
   "cell_type": "code",
   "execution_count": 6,
   "metadata": {},
   "outputs": [
    {
     "data": {
      "text/html": [
       "<div>\n",
       "<style scoped>\n",
       "    .dataframe tbody tr th:only-of-type {\n",
       "        vertical-align: middle;\n",
       "    }\n",
       "\n",
       "    .dataframe tbody tr th {\n",
       "        vertical-align: top;\n",
       "    }\n",
       "\n",
       "    .dataframe thead th {\n",
       "        text-align: right;\n",
       "    }\n",
       "</style>\n",
       "<table border=\"1\" class=\"dataframe\">\n",
       "  <thead>\n",
       "    <tr style=\"text-align: right;\">\n",
       "      <th></th>\n",
       "      <th>Gratian0</th>\n",
       "      <th>Gratian1</th>\n",
       "      <th>dePen</th>\n",
       "      <th>Gratian2</th>\n",
       "    </tr>\n",
       "  </thead>\n",
       "  <tbody>\n",
       "    <tr>\n",
       "      <th>in</th>\n",
       "      <td>-2.8702</td>\n",
       "      <td>-0.4342</td>\n",
       "      <td>-0.7095</td>\n",
       "      <td>1.1437</td>\n",
       "    </tr>\n",
       "    <tr>\n",
       "      <th>non</th>\n",
       "      <td>-6.5491</td>\n",
       "      <td>-0.0361</td>\n",
       "      <td>1.0176</td>\n",
       "      <td>-0.9814</td>\n",
       "    </tr>\n",
       "    <tr>\n",
       "      <th>an</th>\n",
       "      <td>75.2996</td>\n",
       "      <td>-0.0475</td>\n",
       "      <td>-0.9754</td>\n",
       "      <td>1.0229</td>\n",
       "    </tr>\n",
       "    <tr>\n",
       "      <th>si</th>\n",
       "      <td>1.9653</td>\n",
       "      <td>-1.1524</td>\n",
       "      <td>0.5134</td>\n",
       "      <td>0.6390</td>\n",
       "    </tr>\n",
       "    <tr>\n",
       "      <th>quomodo</th>\n",
       "      <td>-0.1761</td>\n",
       "      <td>-0.3659</td>\n",
       "      <td>1.1314</td>\n",
       "      <td>-0.7655</td>\n",
       "    </tr>\n",
       "  </tbody>\n",
       "</table>\n",
       "</div>"
      ],
      "text/plain": [
       "         Gratian0  Gratian1   dePen  Gratian2\n",
       "in        -2.8702   -0.4342 -0.7095    1.1437\n",
       "non       -6.5491   -0.0361  1.0176   -0.9814\n",
       "an        75.2996   -0.0475 -0.9754    1.0229\n",
       "si         1.9653   -1.1524  0.5134    0.6390\n",
       "quomodo   -0.1761   -0.3659  1.1314   -0.7655"
      ]
     },
     "execution_count": 6,
     "metadata": {},
     "output_type": "execute_result"
    }
   ],
   "source": [
    "z_scores"
   ]
  },
  {
   "attachments": {},
   "cell_type": "markdown",
   "metadata": {},
   "source": [
    "The frequency of occurrence of the word *an* in the Gratian0 sample representing the thirty-six hypothetical case statements (*themata*) is a remarkably high 39.1123 occurrences per 1,000 words. By way of comparison, the mean frequency of occurrence of *an* across the three samples representing the first-recension *dicta* excluding *de Penitentia* (Gratian1), the first- and second-recension *dicta* from *de Penitentia* (dePen), and the second recension *dicta* (Gratian2) is 1.3815 occurrences per 1,000 words with a sample standard deviation of 0.5011. The frequency of occurrence of *an* in the Gratian0 sample is therefore 75.2996 standard deviations away from the mean frequency of occurrence of the same word in the Gratian1, dePen, and Gratian2 samples. The frequency of occurrence of the word *si* in the Gratian0 sample, on the other hand, is 14.4244 occurrences per 1,000 words. Given that the mean frequency of occurrence of *si* across the Gratian1, dePen, and Gratian2 samples is 9.2665 occurrences per 1,000 words and that the sample standard deviation is 2.6245, the frequency of occurrence of *si* in the Gratian0 sample is far less of an outlier at 1.9653 standard deviations away from the mean than *an* was."
   ]
  },
  {
   "cell_type": "code",
   "execution_count": null,
   "metadata": {},
   "outputs": [],
   "source": []
  }
 ],
 "metadata": {
  "kernelspec": {
   "display_name": "Python 3",
   "language": "python",
   "name": "python3"
  },
  "language_info": {
   "codemirror_mode": {
    "name": "ipython",
    "version": 3
   },
   "file_extension": ".py",
   "mimetype": "text/x-python",
   "name": "python",
   "nbconvert_exporter": "python",
   "pygments_lexer": "ipython3",
   "version": "3.8.2"
  }
 },
 "nbformat": 4,
 "nbformat_minor": 2
}

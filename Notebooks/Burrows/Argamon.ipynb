{
 "cells": [
  {
   "cell_type": "markdown",
   "metadata": {},
   "source": [
    "## Euclidean distance (experimental)"
   ]
  },
  {
   "cell_type": "code",
   "execution_count": 1,
   "metadata": {},
   "outputs": [],
   "source": [
    "path = './corpus/a/'"
   ]
  },
  {
   "cell_type": "code",
   "execution_count": 2,
   "metadata": {},
   "outputs": [],
   "source": [
    "import re\n",
    "\n",
    "def get_tokens(filename):\n",
    "    '''open text file and return list of tokens'''\n",
    "    # text = open(filename, 'r').read().lower()\n",
    "    f = open(filename, 'r') # open file\n",
    "    text = f.read() # read file\n",
    "    text = text.lower() # lower-case text\n",
    "    tokens = [word for word in re.split('\\W', text) if word != ''] # remove punctuation\n",
    "    return tokens"
   ]
  },
  {
   "cell_type": "code",
   "execution_count": 3,
   "metadata": {},
   "outputs": [],
   "source": [
    "def get_features(samples):\n",
    "    tokens = []\n",
    "    for sample in samples:\n",
    "        tokens += get_tokens(path + sample + '.txt')\n",
    "    types = list(set(tokens)) # create unordered list of unique words\n",
    "    tmp = dict.fromkeys(types, 0) # create temporary dictionary, initialize counts to 0\n",
    "    for token in tokens: tmp[token] += 1 # count words\n",
    "    # re-order words in temporary dictionary numerically by descending frequency\n",
    "    # re-order words with same frequency alphabetically\n",
    "    features = { \n",
    "        key: value for key, value in sorted(tmp.items(),\n",
    "        key = lambda item: (-item[1], item[0]))\n",
    "    }\n",
    "    return features"
   ]
  },
  {
   "cell_type": "code",
   "execution_count": 4,
   "metadata": {},
   "outputs": [],
   "source": [
    "import pandas as pd\n",
    "\n",
    "def get_counts(features, samples):\n",
    "    columns = {}\n",
    "    for sample in samples:\n",
    "        columns[sample] = []\n",
    "        tmp = get_features([sample])\n",
    "        for feature in features:\n",
    "            columns[sample].append(tmp.get(feature, 0))\n",
    "    return pd.DataFrame(columns, index = features)"
   ]
  },
  {
   "cell_type": "code",
   "execution_count": 5,
   "metadata": {},
   "outputs": [],
   "source": [
    "def get_lengths(samples):\n",
    "    filenames = [path + sample + '.txt' for sample in samples]\n",
    "    lengths = {}\n",
    "    for i in range(len(samples)):\n",
    "       lengths[samples[i]] = len(get_tokens(filenames[i]))\n",
    "    return pd.DataFrame(lengths, index = ['words'])"
   ]
  },
  {
   "cell_type": "code",
   "execution_count": 6,
   "metadata": {},
   "outputs": [
    {
     "data": {
      "text/html": [
       "<div>\n",
       "<style scoped>\n",
       "    .dataframe tbody tr th:only-of-type {\n",
       "        vertical-align: middle;\n",
       "    }\n",
       "\n",
       "    .dataframe tbody tr th {\n",
       "        vertical-align: top;\n",
       "    }\n",
       "\n",
       "    .dataframe thead th {\n",
       "        text-align: right;\n",
       "    }\n",
       "</style>\n",
       "<table border=\"1\" class=\"dataframe\">\n",
       "  <thead>\n",
       "    <tr style=\"text-align: right;\">\n",
       "      <th></th>\n",
       "      <th>Gratian0</th>\n",
       "      <th>Gratian1</th>\n",
       "      <th>dePen</th>\n",
       "      <th>Gratian2</th>\n",
       "    </tr>\n",
       "  </thead>\n",
       "  <tbody>\n",
       "    <tr>\n",
       "      <th>in</th>\n",
       "      <td>-2.8702</td>\n",
       "      <td>-0.4342</td>\n",
       "      <td>-0.7095</td>\n",
       "      <td>1.1437</td>\n",
       "    </tr>\n",
       "    <tr>\n",
       "      <th>non</th>\n",
       "      <td>-6.5491</td>\n",
       "      <td>-0.0361</td>\n",
       "      <td>1.0176</td>\n",
       "      <td>-0.9814</td>\n",
       "    </tr>\n",
       "    <tr>\n",
       "      <th>et</th>\n",
       "      <td>-3.2375</td>\n",
       "      <td>-0.9786</td>\n",
       "      <td>1.0201</td>\n",
       "      <td>-0.0414</td>\n",
       "    </tr>\n",
       "    <tr>\n",
       "      <th>est</th>\n",
       "      <td>-3.5264</td>\n",
       "      <td>0.4179</td>\n",
       "      <td>0.7233</td>\n",
       "      <td>-1.1412</td>\n",
       "    </tr>\n",
       "  </tbody>\n",
       "</table>\n",
       "</div>"
      ],
      "text/plain": [
       "     Gratian0  Gratian1   dePen  Gratian2\n",
       "in    -2.8702   -0.4342 -0.7095    1.1437\n",
       "non   -6.5491   -0.0361  1.0176   -0.9814\n",
       "et    -3.2375   -0.9786  1.0201   -0.0414\n",
       "est   -3.5264    0.4179  0.7233   -1.1412"
      ]
     },
     "execution_count": 6,
     "metadata": {},
     "output_type": "execute_result"
    }
   ],
   "source": [
    "limit = 4 # 4 most frequent words (MFWs)\n",
    "samples = ['Gratian1', 'dePen', 'Gratian2']\n",
    "unknown = 'Gratian0'\n",
    "features = get_features(samples)\n",
    "mfws = list(features.keys())[:limit]\n",
    "counts = get_counts(mfws, [unknown] + samples)\n",
    "lengths = get_lengths([unknown] + samples)\n",
    "frequencies = (counts / lengths.values) * 1000\n",
    "csv = open('./CSVs/frequencies_t.csv', 'w')\n",
    "csv.write(frequencies.transpose().to_csv())\n",
    "csv.close()\n",
    "means = frequencies[samples].mean(axis = 1).to_frame('mean')\n",
    "standard_deviations = frequencies[samples].std(axis = 1).to_frame('std')\n",
    "z_scores = (frequencies - means.values) / standard_deviations.values\n",
    "pd.options.display.float_format = '{:,.4f}'.format\n",
    "z_scores"
   ]
  },
  {
   "cell_type": "code",
   "execution_count": 7,
   "metadata": {},
   "outputs": [
    {
     "data": {
      "text/html": [
       "<div>\n",
       "<style scoped>\n",
       "    .dataframe tbody tr th:only-of-type {\n",
       "        vertical-align: middle;\n",
       "    }\n",
       "\n",
       "    .dataframe tbody tr th {\n",
       "        vertical-align: top;\n",
       "    }\n",
       "\n",
       "    .dataframe thead th {\n",
       "        text-align: right;\n",
       "    }\n",
       "</style>\n",
       "<table border=\"1\" class=\"dataframe\">\n",
       "  <thead>\n",
       "    <tr style=\"text-align: right;\">\n",
       "      <th></th>\n",
       "      <th>Gratian0</th>\n",
       "    </tr>\n",
       "  </thead>\n",
       "  <tbody>\n",
       "    <tr>\n",
       "      <th>in</th>\n",
       "      <td>-2.8702</td>\n",
       "    </tr>\n",
       "    <tr>\n",
       "      <th>non</th>\n",
       "      <td>-6.5491</td>\n",
       "    </tr>\n",
       "    <tr>\n",
       "      <th>et</th>\n",
       "      <td>-3.2375</td>\n",
       "    </tr>\n",
       "    <tr>\n",
       "      <th>est</th>\n",
       "      <td>-3.5264</td>\n",
       "    </tr>\n",
       "  </tbody>\n",
       "</table>\n",
       "</div>"
      ],
      "text/plain": [
       "     Gratian0\n",
       "in    -2.8702\n",
       "non   -6.5491\n",
       "et    -3.2375\n",
       "est   -3.5264"
      ]
     },
     "execution_count": 7,
     "metadata": {},
     "output_type": "execute_result"
    }
   ],
   "source": [
    "test = z_scores[[unknown]]\n",
    "test"
   ]
  },
  {
   "cell_type": "code",
   "execution_count": 8,
   "metadata": {},
   "outputs": [
    {
     "data": {
      "text/html": [
       "<div>\n",
       "<style scoped>\n",
       "    .dataframe tbody tr th:only-of-type {\n",
       "        vertical-align: middle;\n",
       "    }\n",
       "\n",
       "    .dataframe tbody tr th {\n",
       "        vertical-align: top;\n",
       "    }\n",
       "\n",
       "    .dataframe thead th {\n",
       "        text-align: right;\n",
       "    }\n",
       "</style>\n",
       "<table border=\"1\" class=\"dataframe\">\n",
       "  <thead>\n",
       "    <tr style=\"text-align: right;\">\n",
       "      <th></th>\n",
       "      <th>Gratian1</th>\n",
       "      <th>dePen</th>\n",
       "      <th>Gratian2</th>\n",
       "    </tr>\n",
       "  </thead>\n",
       "  <tbody>\n",
       "    <tr>\n",
       "      <th>in</th>\n",
       "      <td>-0.4342</td>\n",
       "      <td>-0.7095</td>\n",
       "      <td>1.1437</td>\n",
       "    </tr>\n",
       "    <tr>\n",
       "      <th>non</th>\n",
       "      <td>-0.0361</td>\n",
       "      <td>1.0176</td>\n",
       "      <td>-0.9814</td>\n",
       "    </tr>\n",
       "    <tr>\n",
       "      <th>et</th>\n",
       "      <td>-0.9786</td>\n",
       "      <td>1.0201</td>\n",
       "      <td>-0.0414</td>\n",
       "    </tr>\n",
       "    <tr>\n",
       "      <th>est</th>\n",
       "      <td>0.4179</td>\n",
       "      <td>0.7233</td>\n",
       "      <td>-1.1412</td>\n",
       "    </tr>\n",
       "  </tbody>\n",
       "</table>\n",
       "</div>"
      ],
      "text/plain": [
       "     Gratian1   dePen  Gratian2\n",
       "in    -0.4342 -0.7095    1.1437\n",
       "non   -0.0361  1.0176   -0.9814\n",
       "et    -0.9786  1.0201   -0.0414\n",
       "est    0.4179  0.7233   -1.1412"
      ]
     },
     "execution_count": 8,
     "metadata": {},
     "output_type": "execute_result"
    }
   ],
   "source": [
    "corpus = z_scores[samples]\n",
    "corpus"
   ]
  },
  {
   "cell_type": "code",
   "execution_count": 9,
   "metadata": {},
   "outputs": [
    {
     "data": {
      "text/html": [
       "<div>\n",
       "<style scoped>\n",
       "    .dataframe tbody tr th:only-of-type {\n",
       "        vertical-align: middle;\n",
       "    }\n",
       "\n",
       "    .dataframe tbody tr th {\n",
       "        vertical-align: top;\n",
       "    }\n",
       "\n",
       "    .dataframe thead th {\n",
       "        text-align: right;\n",
       "    }\n",
       "</style>\n",
       "<table border=\"1\" class=\"dataframe\">\n",
       "  <thead>\n",
       "    <tr style=\"text-align: right;\">\n",
       "      <th></th>\n",
       "      <th>Gratian1</th>\n",
       "      <th>dePen</th>\n",
       "      <th>Gratian2</th>\n",
       "    </tr>\n",
       "  </thead>\n",
       "  <tbody>\n",
       "    <tr>\n",
       "      <th>in</th>\n",
       "      <td>2.4360</td>\n",
       "      <td>2.1606</td>\n",
       "      <td>4.0139</td>\n",
       "    </tr>\n",
       "    <tr>\n",
       "      <th>non</th>\n",
       "      <td>6.5130</td>\n",
       "      <td>7.5667</td>\n",
       "      <td>5.5677</td>\n",
       "    </tr>\n",
       "    <tr>\n",
       "      <th>et</th>\n",
       "      <td>2.2589</td>\n",
       "      <td>4.2576</td>\n",
       "      <td>3.1961</td>\n",
       "    </tr>\n",
       "    <tr>\n",
       "      <th>est</th>\n",
       "      <td>3.9443</td>\n",
       "      <td>4.2497</td>\n",
       "      <td>2.3852</td>\n",
       "    </tr>\n",
       "  </tbody>\n",
       "</table>\n",
       "</div>"
      ],
      "text/plain": [
       "     Gratian1  dePen  Gratian2\n",
       "in     2.4360 2.1606    4.0139\n",
       "non    6.5130 7.5667    5.5677\n",
       "et     2.2589 4.2576    3.1961\n",
       "est    3.9443 4.2497    2.3852"
      ]
     },
     "execution_count": 9,
     "metadata": {},
     "output_type": "execute_result"
    }
   ],
   "source": [
    "differences = (test.values - corpus).abs()\n",
    "differences"
   ]
  },
  {
   "cell_type": "markdown",
   "metadata": {},
   "source": [
    "---"
   ]
  },
  {
   "cell_type": "markdown",
   "metadata": {},
   "source": [
    "### Manhattan distance"
   ]
  },
  {
   "cell_type": "code",
   "execution_count": 10,
   "metadata": {},
   "outputs": [
    {
     "data": {
      "text/html": [
       "<div>\n",
       "<style scoped>\n",
       "    .dataframe tbody tr th:only-of-type {\n",
       "        vertical-align: middle;\n",
       "    }\n",
       "\n",
       "    .dataframe tbody tr th {\n",
       "        vertical-align: top;\n",
       "    }\n",
       "\n",
       "    .dataframe thead th {\n",
       "        text-align: right;\n",
       "    }\n",
       "</style>\n",
       "<table border=\"1\" class=\"dataframe\">\n",
       "  <thead>\n",
       "    <tr style=\"text-align: right;\">\n",
       "      <th></th>\n",
       "      <th>Gratian1</th>\n",
       "      <th>dePen</th>\n",
       "      <th>Gratian2</th>\n",
       "    </tr>\n",
       "  </thead>\n",
       "  <tbody>\n",
       "    <tr>\n",
       "      <th>Gratian0</th>\n",
       "      <td>3.7880</td>\n",
       "      <td>4.5586</td>\n",
       "      <td>3.7907</td>\n",
       "    </tr>\n",
       "  </tbody>\n",
       "</table>\n",
       "</div>"
      ],
      "text/plain": [
       "          Gratian1  dePen  Gratian2\n",
       "Gratian0    3.7880 4.5586    3.7907"
      ]
     },
     "execution_count": 10,
     "metadata": {},
     "output_type": "execute_result"
    }
   ],
   "source": [
    "manhattan_row = (differences.mean(axis = 0)).to_frame(unknown).transpose()\n",
    "manhattan_row"
   ]
  },
  {
   "cell_type": "markdown",
   "metadata": {},
   "source": [
    "### Euclidean distance"
   ]
  },
  {
   "cell_type": "markdown",
   "metadata": {},
   "source": [
    "Argamon's formula:\n",
    "\n",
    "$\\sqrt{\\sum_{i = 1}^n\\frac{1}{\\sigma_i^2}(f_i(D) - f_i(D'))^2}$"
   ]
  },
  {
   "cell_type": "code",
   "execution_count": 11,
   "metadata": {},
   "outputs": [
    {
     "data": {
      "text/html": [
       "<div>\n",
       "<style scoped>\n",
       "    .dataframe tbody tr th:only-of-type {\n",
       "        vertical-align: middle;\n",
       "    }\n",
       "\n",
       "    .dataframe tbody tr th {\n",
       "        vertical-align: top;\n",
       "    }\n",
       "\n",
       "    .dataframe thead th {\n",
       "        text-align: right;\n",
       "    }\n",
       "</style>\n",
       "<table border=\"1\" class=\"dataframe\">\n",
       "  <thead>\n",
       "    <tr style=\"text-align: right;\">\n",
       "      <th></th>\n",
       "      <th>Gratian1</th>\n",
       "      <th>dePen</th>\n",
       "      <th>Gratian2</th>\n",
       "    </tr>\n",
       "  </thead>\n",
       "  <tbody>\n",
       "    <tr>\n",
       "      <th>Gratian0</th>\n",
       "      <td>8.3074</td>\n",
       "      <td>9.9051</td>\n",
       "      <td>7.9382</td>\n",
       "    </tr>\n",
       "  </tbody>\n",
       "</table>\n",
       "</div>"
      ],
      "text/plain": [
       "          Gratian1  dePen  Gratian2\n",
       "Gratian0    8.3074 9.9051    7.9382"
      ]
     },
     "execution_count": 11,
     "metadata": {},
     "output_type": "execute_result"
    }
   ],
   "source": [
    "import numpy as np\n",
    "\n",
    "euclidean_row = np.sqrt(np.square(differences).sum(axis = 0)).to_frame(unknown).transpose()\n",
    "euclidean_row"
   ]
  },
  {
   "cell_type": "code",
   "execution_count": 12,
   "metadata": {},
   "outputs": [
    {
     "data": {
      "text/html": [
       "<div>\n",
       "<style scoped>\n",
       "    .dataframe tbody tr th:only-of-type {\n",
       "        vertical-align: middle;\n",
       "    }\n",
       "\n",
       "    .dataframe tbody tr th {\n",
       "        vertical-align: top;\n",
       "    }\n",
       "\n",
       "    .dataframe thead th {\n",
       "        text-align: right;\n",
       "    }\n",
       "</style>\n",
       "<table border=\"1\" class=\"dataframe\">\n",
       "  <thead>\n",
       "    <tr style=\"text-align: right;\">\n",
       "      <th></th>\n",
       "      <th>Gratian1</th>\n",
       "      <th>dePen</th>\n",
       "      <th>Gratian2</th>\n",
       "    </tr>\n",
       "  </thead>\n",
       "  <tbody>\n",
       "    <tr>\n",
       "      <th>Gratian0</th>\n",
       "      <td>8.3074</td>\n",
       "      <td>9.9051</td>\n",
       "      <td>7.9382</td>\n",
       "    </tr>\n",
       "  </tbody>\n",
       "</table>\n",
       "</div>"
      ],
      "text/plain": [
       "          Gratian1  dePen  Gratian2\n",
       "Gratian0    8.3074 9.9051    7.9382"
      ]
     },
     "execution_count": 12,
     "metadata": {},
     "output_type": "execute_result"
    }
   ],
   "source": [
    "# equivalent to:\n",
    "euclidean_distance = np.square(frequencies[samples] - frequencies[[unknown]].values) / np.square(standard_deviations.values)\n",
    "euclidean_row = np.sqrt(euclidean_distance.sum(axis = 0)).to_frame(unknown).transpose()\n",
    "euclidean_row"
   ]
  },
  {
   "cell_type": "markdown",
   "metadata": {},
   "source": [
    "### Manhattan distance"
   ]
  },
  {
   "cell_type": "code",
   "execution_count": 13,
   "metadata": {},
   "outputs": [
    {
     "data": {
      "text/html": [
       "<div>\n",
       "<style scoped>\n",
       "    .dataframe tbody tr th:only-of-type {\n",
       "        vertical-align: middle;\n",
       "    }\n",
       "\n",
       "    .dataframe tbody tr th {\n",
       "        vertical-align: top;\n",
       "    }\n",
       "\n",
       "    .dataframe thead th {\n",
       "        text-align: right;\n",
       "    }\n",
       "</style>\n",
       "<table border=\"1\" class=\"dataframe\">\n",
       "  <thead>\n",
       "    <tr style=\"text-align: right;\">\n",
       "      <th></th>\n",
       "      <th>Gratian1</th>\n",
       "      <th>dePen</th>\n",
       "      <th>Gratian2</th>\n",
       "    </tr>\n",
       "  </thead>\n",
       "  <tbody>\n",
       "    <tr>\n",
       "      <th>psAug</th>\n",
       "      <td>2.6456</td>\n",
       "      <td>1.7373</td>\n",
       "      <td>3.4318</td>\n",
       "    </tr>\n",
       "  </tbody>\n",
       "</table>\n",
       "</div>"
      ],
      "text/plain": [
       "       Gratian1  dePen  Gratian2\n",
       "psAug    2.6456 1.7373    3.4318"
      ]
     },
     "execution_count": 13,
     "metadata": {},
     "output_type": "execute_result"
    }
   ],
   "source": [
    "limit = 4 # 4 most frequent words (MFWs)\n",
    "samples = ['Gratian1', 'dePen', 'Gratian2']\n",
    "unknown = 'psAug'\n",
    "features = get_features(samples)\n",
    "mfws = list(features.keys())[:limit]\n",
    "counts = get_counts(mfws, [unknown] + samples)\n",
    "lengths = get_lengths([unknown] + samples)\n",
    "frequencies = (counts / lengths.values) * 1000\n",
    "means = frequencies[samples].mean(axis = 1).to_frame('mean')\n",
    "standard_deviations = frequencies[samples].std(axis = 1).to_frame('std')\n",
    "z_scores = (frequencies - means.values) / standard_deviations.values\n",
    "test = z_scores[[unknown]]\n",
    "corpus = z_scores[samples]\n",
    "differences = (test.values - corpus).abs()\n",
    "manhattan_row = (differences.mean(axis = 0)).to_frame(unknown).transpose()\n",
    "euclidean_row = np.sqrt(np.square(differences).sum(axis = 0)).to_frame(unknown).transpose()\n",
    "manhattan_row"
   ]
  },
  {
   "cell_type": "markdown",
   "metadata": {},
   "source": [
    "### Euclidean distance"
   ]
  },
  {
   "cell_type": "code",
   "execution_count": 14,
   "metadata": {},
   "outputs": [
    {
     "data": {
      "text/html": [
       "<div>\n",
       "<style scoped>\n",
       "    .dataframe tbody tr th:only-of-type {\n",
       "        vertical-align: middle;\n",
       "    }\n",
       "\n",
       "    .dataframe tbody tr th {\n",
       "        vertical-align: top;\n",
       "    }\n",
       "\n",
       "    .dataframe thead th {\n",
       "        text-align: right;\n",
       "    }\n",
       "</style>\n",
       "<table border=\"1\" class=\"dataframe\">\n",
       "  <thead>\n",
       "    <tr style=\"text-align: right;\">\n",
       "      <th></th>\n",
       "      <th>Gratian1</th>\n",
       "      <th>dePen</th>\n",
       "      <th>Gratian2</th>\n",
       "    </tr>\n",
       "  </thead>\n",
       "  <tbody>\n",
       "    <tr>\n",
       "      <th>psAug</th>\n",
       "      <td>8.3227</td>\n",
       "      <td>6.1961</td>\n",
       "      <td>8.1540</td>\n",
       "    </tr>\n",
       "  </tbody>\n",
       "</table>\n",
       "</div>"
      ],
      "text/plain": [
       "       Gratian1  dePen  Gratian2\n",
       "psAug    8.3227 6.1961    8.1540"
      ]
     },
     "execution_count": 14,
     "metadata": {},
     "output_type": "execute_result"
    }
   ],
   "source": [
    "euclidean_row"
   ]
  },
  {
   "cell_type": "markdown",
   "metadata": {},
   "source": [
    "### Manhattan distance"
   ]
  },
  {
   "cell_type": "code",
   "execution_count": 15,
   "metadata": {},
   "outputs": [
    {
     "data": {
      "text/html": [
       "<div>\n",
       "<style scoped>\n",
       "    .dataframe tbody tr th:only-of-type {\n",
       "        vertical-align: middle;\n",
       "    }\n",
       "\n",
       "    .dataframe tbody tr th {\n",
       "        vertical-align: top;\n",
       "    }\n",
       "\n",
       "    .dataframe thead th {\n",
       "        text-align: right;\n",
       "    }\n",
       "</style>\n",
       "<table border=\"1\" class=\"dataframe\">\n",
       "  <thead>\n",
       "    <tr style=\"text-align: right;\">\n",
       "      <th></th>\n",
       "      <th>Gratian0</th>\n",
       "      <th>Gratian1</th>\n",
       "      <th>dePen</th>\n",
       "      <th>Gratian2</th>\n",
       "    </tr>\n",
       "  </thead>\n",
       "  <tbody>\n",
       "    <tr>\n",
       "      <th>Gratian0</th>\n",
       "      <td>nan</td>\n",
       "      <td>3.7880</td>\n",
       "      <td>4.5586</td>\n",
       "      <td>3.7907</td>\n",
       "    </tr>\n",
       "    <tr>\n",
       "      <th>Gratian1</th>\n",
       "      <td>1.4361</td>\n",
       "      <td>nan</td>\n",
       "      <td>0.3628</td>\n",
       "      <td>0.5453</td>\n",
       "    </tr>\n",
       "    <tr>\n",
       "      <th>dePen</th>\n",
       "      <td>1.9873</td>\n",
       "      <td>0.4515</td>\n",
       "      <td>nan</td>\n",
       "      <td>0.7673</td>\n",
       "    </tr>\n",
       "    <tr>\n",
       "      <th>Gratian2</th>\n",
       "      <td>1.7185</td>\n",
       "      <td>0.6278</td>\n",
       "      <td>0.7905</td>\n",
       "      <td>nan</td>\n",
       "    </tr>\n",
       "  </tbody>\n",
       "</table>\n",
       "</div>"
      ],
      "text/plain": [
       "          Gratian0  Gratian1  dePen  Gratian2\n",
       "Gratian0       nan    3.7880 4.5586    3.7907\n",
       "Gratian1    1.4361       nan 0.3628    0.5453\n",
       "dePen       1.9873    0.4515    nan    0.7673\n",
       "Gratian2    1.7185    0.6278 0.7905       nan"
      ]
     },
     "execution_count": 15,
     "metadata": {},
     "output_type": "execute_result"
    }
   ],
   "source": [
    "path = './corpus/a/'\n",
    "\n",
    "# author candidates, e.g. Gratian 1, the Master of Penance, Gratian 2, etc.\n",
    "candidates = ['Gratian0', 'Gratian1', 'dePen', 'Gratian2']\n",
    "manhattan_deltas = pd.DataFrame(columns = candidates)\n",
    "euclidean_deltas = pd.DataFrame(columns = candidates)\n",
    "limit = 4 # 4 most frequent words (MFWs)\n",
    "for candidate in candidates:\n",
    "    unknown = candidate\n",
    "    samples = candidates[:]\n",
    "    samples.remove(unknown)\n",
    "    features = get_features(samples)\n",
    "    mfws = list(features.keys())[:limit]\n",
    "    counts = get_counts(mfws, [unknown] + samples)\n",
    "    lengths = get_lengths([unknown] + samples)\n",
    "    frequencies = (counts / lengths.values) * 1000\n",
    "    means = frequencies[samples].mean(axis = 1).to_frame('mean')\n",
    "    standard_deviations = frequencies[samples].std(axis = 1).to_frame('std')\n",
    "    z_scores = (frequencies - means.values) / standard_deviations.values\n",
    "    test = z_scores[[unknown]]\n",
    "    corpus = z_scores[samples]\n",
    "    differences = (test.values - corpus).abs()\n",
    "    manhattan_row = (differences.mean(axis = 0)).to_frame(unknown).transpose()\n",
    "    euclidean_row = np.sqrt(np.square(differences).sum(axis = 0)).to_frame(unknown).transpose()\n",
    "    manhattan_deltas = manhattan_deltas.append(manhattan_row)\n",
    "    euclidean_deltas = euclidean_deltas.append(euclidean_row)\n",
    "manhattan_deltas"
   ]
  },
  {
   "cell_type": "markdown",
   "metadata": {},
   "source": [
    "### Euclidean distance"
   ]
  },
  {
   "cell_type": "code",
   "execution_count": 16,
   "metadata": {},
   "outputs": [
    {
     "data": {
      "text/html": [
       "<div>\n",
       "<style scoped>\n",
       "    .dataframe tbody tr th:only-of-type {\n",
       "        vertical-align: middle;\n",
       "    }\n",
       "\n",
       "    .dataframe tbody tr th {\n",
       "        vertical-align: top;\n",
       "    }\n",
       "\n",
       "    .dataframe thead th {\n",
       "        text-align: right;\n",
       "    }\n",
       "</style>\n",
       "<table border=\"1\" class=\"dataframe\">\n",
       "  <thead>\n",
       "    <tr style=\"text-align: right;\">\n",
       "      <th></th>\n",
       "      <th>Gratian0</th>\n",
       "      <th>Gratian1</th>\n",
       "      <th>dePen</th>\n",
       "      <th>Gratian2</th>\n",
       "    </tr>\n",
       "  </thead>\n",
       "  <tbody>\n",
       "    <tr>\n",
       "      <th>Gratian0</th>\n",
       "      <td>nan</td>\n",
       "      <td>8.3074</td>\n",
       "      <td>9.9051</td>\n",
       "      <td>7.9382</td>\n",
       "    </tr>\n",
       "    <tr>\n",
       "      <th>Gratian1</th>\n",
       "      <td>2.9490</td>\n",
       "      <td>nan</td>\n",
       "      <td>0.9617</td>\n",
       "      <td>1.1788</td>\n",
       "    </tr>\n",
       "    <tr>\n",
       "      <th>dePen</th>\n",
       "      <td>4.1299</td>\n",
       "      <td>1.2696</td>\n",
       "      <td>nan</td>\n",
       "      <td>1.5687</td>\n",
       "    </tr>\n",
       "    <tr>\n",
       "      <th>Gratian2</th>\n",
       "      <td>3.7632</td>\n",
       "      <td>1.4416</td>\n",
       "      <td>1.7420</td>\n",
       "      <td>nan</td>\n",
       "    </tr>\n",
       "  </tbody>\n",
       "</table>\n",
       "</div>"
      ],
      "text/plain": [
       "          Gratian0  Gratian1  dePen  Gratian2\n",
       "Gratian0       nan    8.3074 9.9051    7.9382\n",
       "Gratian1    2.9490       nan 0.9617    1.1788\n",
       "dePen       4.1299    1.2696    nan    1.5687\n",
       "Gratian2    3.7632    1.4416 1.7420       nan"
      ]
     },
     "execution_count": 16,
     "metadata": {},
     "output_type": "execute_result"
    }
   ],
   "source": [
    "euclidean_deltas"
   ]
  },
  {
   "cell_type": "markdown",
   "metadata": {},
   "source": [
    "### Manhattan distance"
   ]
  },
  {
   "cell_type": "code",
   "execution_count": 17,
   "metadata": {},
   "outputs": [
    {
     "data": {
      "text/html": [
       "<div>\n",
       "<style scoped>\n",
       "    .dataframe tbody tr th:only-of-type {\n",
       "        vertical-align: middle;\n",
       "    }\n",
       "\n",
       "    .dataframe tbody tr th {\n",
       "        vertical-align: top;\n",
       "    }\n",
       "\n",
       "    .dataframe thead th {\n",
       "        text-align: right;\n",
       "    }\n",
       "</style>\n",
       "<table border=\"1\" class=\"dataframe\">\n",
       "  <thead>\n",
       "    <tr style=\"text-align: right;\">\n",
       "      <th></th>\n",
       "      <th>psAug</th>\n",
       "      <th>Gratian1</th>\n",
       "      <th>dePen</th>\n",
       "      <th>Gratian2</th>\n",
       "    </tr>\n",
       "  </thead>\n",
       "  <tbody>\n",
       "    <tr>\n",
       "      <th>psAug</th>\n",
       "      <td>nan</td>\n",
       "      <td>2.6456</td>\n",
       "      <td>1.7373</td>\n",
       "      <td>3.4318</td>\n",
       "    </tr>\n",
       "    <tr>\n",
       "      <th>Gratian1</th>\n",
       "      <td>1.0228</td>\n",
       "      <td>nan</td>\n",
       "      <td>0.4653</td>\n",
       "      <td>0.9325</td>\n",
       "    </tr>\n",
       "    <tr>\n",
       "      <th>dePen</th>\n",
       "      <td>0.5178</td>\n",
       "      <td>0.4733</td>\n",
       "      <td>nan</td>\n",
       "      <td>1.3453</td>\n",
       "    </tr>\n",
       "    <tr>\n",
       "      <th>Gratian2</th>\n",
       "      <td>5.2005</td>\n",
       "      <td>3.3574</td>\n",
       "      <td>4.2857</td>\n",
       "      <td>nan</td>\n",
       "    </tr>\n",
       "  </tbody>\n",
       "</table>\n",
       "</div>"
      ],
      "text/plain": [
       "          psAug  Gratian1  dePen  Gratian2\n",
       "psAug       nan    2.6456 1.7373    3.4318\n",
       "Gratian1 1.0228       nan 0.4653    0.9325\n",
       "dePen    0.5178    0.4733    nan    1.3453\n",
       "Gratian2 5.2005    3.3574 4.2857       nan"
      ]
     },
     "execution_count": 17,
     "metadata": {},
     "output_type": "execute_result"
    }
   ],
   "source": [
    "path = './corpus/a/'\n",
    "\n",
    "# author candidates, e.g. pseudo-Augustine, Gratian 1, the Master of Penance, Gratian 2, etc.\n",
    "candidates = ['psAug', 'Gratian1', 'dePen', 'Gratian2']\n",
    "manhattan_deltas = pd.DataFrame(columns = candidates)\n",
    "euclidean_deltas = pd.DataFrame(columns = candidates)\n",
    "limit = 4 # 4 most frequent words (MFWs)\n",
    "for candidate in candidates:\n",
    "    unknown = candidate\n",
    "    samples = candidates[:]\n",
    "    samples.remove(unknown)\n",
    "    features = get_features(samples)\n",
    "    mfws = list(features.keys())[:limit]\n",
    "    counts = get_counts(mfws, [unknown] + samples)\n",
    "    lengths = get_lengths([unknown] + samples)\n",
    "    frequencies = (counts / lengths.values) * 1000\n",
    "    means = frequencies[samples].mean(axis = 1).to_frame('mean')\n",
    "    standard_deviations = frequencies[samples].std(axis = 1).to_frame('std')\n",
    "    z_scores = (frequencies - means.values) / standard_deviations.values\n",
    "    test = z_scores[[unknown]]\n",
    "    corpus = z_scores[samples]\n",
    "    differences = (test.values - corpus).abs()\n",
    "    manhattan_row = (differences.mean(axis = 0)).to_frame(unknown).transpose()\n",
    "    euclidean_row = np.sqrt(np.square(differences).sum(axis = 0)).to_frame(unknown).transpose()\n",
    "    manhattan_deltas = manhattan_deltas.append(manhattan_row)\n",
    "    euclidean_deltas = euclidean_deltas.append(euclidean_row)\n",
    "manhattan_deltas"
   ]
  },
  {
   "cell_type": "markdown",
   "metadata": {},
   "source": [
    "### Euclidean distance"
   ]
  },
  {
   "cell_type": "code",
   "execution_count": 18,
   "metadata": {},
   "outputs": [
    {
     "data": {
      "text/html": [
       "<div>\n",
       "<style scoped>\n",
       "    .dataframe tbody tr th:only-of-type {\n",
       "        vertical-align: middle;\n",
       "    }\n",
       "\n",
       "    .dataframe tbody tr th {\n",
       "        vertical-align: top;\n",
       "    }\n",
       "\n",
       "    .dataframe thead th {\n",
       "        text-align: right;\n",
       "    }\n",
       "</style>\n",
       "<table border=\"1\" class=\"dataframe\">\n",
       "  <thead>\n",
       "    <tr style=\"text-align: right;\">\n",
       "      <th></th>\n",
       "      <th>psAug</th>\n",
       "      <th>Gratian1</th>\n",
       "      <th>dePen</th>\n",
       "      <th>Gratian2</th>\n",
       "    </tr>\n",
       "  </thead>\n",
       "  <tbody>\n",
       "    <tr>\n",
       "      <th>psAug</th>\n",
       "      <td>nan</td>\n",
       "      <td>8.3227</td>\n",
       "      <td>6.1961</td>\n",
       "      <td>8.1540</td>\n",
       "    </tr>\n",
       "    <tr>\n",
       "      <th>Gratian1</th>\n",
       "      <td>2.4423</td>\n",
       "      <td>nan</td>\n",
       "      <td>1.0498</td>\n",
       "      <td>2.0896</td>\n",
       "    </tr>\n",
       "    <tr>\n",
       "      <th>dePen</th>\n",
       "      <td>1.4376</td>\n",
       "      <td>1.0847</td>\n",
       "      <td>nan</td>\n",
       "      <td>2.9794</td>\n",
       "    </tr>\n",
       "    <tr>\n",
       "      <th>Gratian2</th>\n",
       "      <td>11.8009</td>\n",
       "      <td>8.5068</td>\n",
       "      <td>10.3475</td>\n",
       "      <td>nan</td>\n",
       "    </tr>\n",
       "  </tbody>\n",
       "</table>\n",
       "</div>"
      ],
      "text/plain": [
       "           psAug  Gratian1   dePen  Gratian2\n",
       "psAug        nan    8.3227  6.1961    8.1540\n",
       "Gratian1  2.4423       nan  1.0498    2.0896\n",
       "dePen     1.4376    1.0847     nan    2.9794\n",
       "Gratian2 11.8009    8.5068 10.3475       nan"
      ]
     },
     "execution_count": 18,
     "metadata": {},
     "output_type": "execute_result"
    }
   ],
   "source": [
    "euclidean_deltas"
   ]
  },
  {
   "cell_type": "code",
   "execution_count": null,
   "metadata": {},
   "outputs": [],
   "source": [
    "path = './corpus/b/'\n",
    "\n",
    "candidates = ['cases', 'laws', 'orders1', 'orders2', 'simony', 'procedure', 'other1', 'other2', 'monastic', 'other3', 'heresy', 'marriage', 'penance', 'second']\n",
    "deltas = pd.DataFrame(columns = candidates)\n",
    "limit = 30 # 30 most frequent words (MFWs)\n",
    "for candidate in candidates:\n",
    "    unknown = candidate\n",
    "    samples = candidates[:]\n",
    "    samples.remove(unknown)\n",
    "    features = get_features(samples)\n",
    "    mfws = list(features.keys())[:limit]\n",
    "    counts = get_counts(mfws, [unknown] + samples)\n",
    "    lengths = get_lengths([unknown] + samples)\n",
    "    frequencies = (counts / lengths.values) * 1000\n",
    "    means = frequencies[samples].mean(axis = 1).to_frame('mean')\n",
    "    standard_deviations = frequencies[samples].std(axis = 1).to_frame('std')\n",
    "    z_scores = (frequencies - means.values) / standard_deviations.values\n",
    "    test = z_scores[[unknown]]\n",
    "    corpus = z_scores[samples]\n",
    "    differences = (test.values - corpus).abs()\n",
    "    row = np.sqrt(np.square(differences).sum(axis = 0)).to_frame(unknown).transpose()\n",
    "    deltas = deltas.append(row)\n",
    "deltas\n"
   ]
  }
 ],
 "metadata": {
  "kernelspec": {
   "display_name": "Python 3",
   "language": "python",
   "name": "python3"
  },
  "language_info": {
   "codemirror_mode": {
    "name": "ipython",
    "version": 3
   },
   "file_extension": ".py",
   "mimetype": "text/x-python",
   "name": "python",
   "nbconvert_exporter": "python",
   "pygments_lexer": "ipython3",
   "version": "3.8.2"
  }
 },
 "nbformat": 4,
 "nbformat_minor": 2
}

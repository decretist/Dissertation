{
 "cells": [
  {
   "cell_type": "markdown",
   "metadata": {},
   "source": [
    "## Burrows's Delta (continued)"
   ]
  },
  {
   "cell_type": "code",
   "execution_count": 1,
   "metadata": {},
   "outputs": [],
   "source": [
    "import Utility"
   ]
  },
  {
   "cell_type": "code",
   "execution_count": 2,
   "metadata": {},
   "outputs": [],
   "source": [
    "Utility.path = './corpus/a/'"
   ]
  },
  {
   "cell_type": "code",
   "execution_count": 3,
   "metadata": {},
   "outputs": [
    {
     "name": "stderr",
     "output_type": "stream",
     "text": [
      "['sed', 'unde', 'enim', 'ait', 'ergo']\n",
      "['in', 'non', 'et', 'est', 'de', 'quod', 'qui', 'ad', 'uel', 'ut', 'si', 'autem', 'cum', 'a', 'ex', 'sunt', 'que', 'etiam', 'uero', 'ab', 'quia', 'esse', 'item', 'per', 'nec', 'se', 'hoc', 'nisi', 'ita', 'illud']\n"
     ]
    },
    {
     "data": {
      "text/html": [
       "<div>\n",
       "<style scoped>\n",
       "    .dataframe tbody tr th:only-of-type {\n",
       "        vertical-align: middle;\n",
       "    }\n",
       "\n",
       "    .dataframe tbody tr th {\n",
       "        vertical-align: top;\n",
       "    }\n",
       "\n",
       "    .dataframe thead th {\n",
       "        text-align: right;\n",
       "    }\n",
       "</style>\n",
       "<table border=\"1\" class=\"dataframe\">\n",
       "  <thead>\n",
       "    <tr style=\"text-align: right;\">\n",
       "      <th></th>\n",
       "      <th>Gratian1</th>\n",
       "      <th>dePen</th>\n",
       "      <th>Gratian2</th>\n",
       "    </tr>\n",
       "  </thead>\n",
       "  <tbody>\n",
       "    <tr>\n",
       "      <th>Gratian0</th>\n",
       "      <td>3.463527</td>\n",
       "      <td>3.477218</td>\n",
       "      <td>3.380142</td>\n",
       "    </tr>\n",
       "  </tbody>\n",
       "</table>\n",
       "</div>"
      ],
      "text/plain": [
       "          Gratian1     dePen  Gratian2\n",
       "Gratian0  3.463527  3.477218  3.380142"
      ]
     },
     "execution_count": 3,
     "metadata": {},
     "output_type": "execute_result"
    }
   ],
   "source": [
    "import sys\n",
    "\n",
    "limit = 30 # 30 most frequent words (MFWs)\n",
    "samples = ['Gratian1', 'dePen', 'Gratian2']\n",
    "unknown = 'Gratian0'\n",
    "samples_features = Utility.get_features(samples)\n",
    "unknown_features = Utility.get_features([unknown])\n",
    "missing_features = [word for word in list(samples_features.keys())[:limit] if word not in unknown_features]\n",
    "print(missing_features, file = sys.stderr)\n",
    "features = [word for word in samples_features if word in unknown_features]\n",
    "mfws = features[:limit]\n",
    "print(mfws, file = sys.stderr)\n",
    "counts = Utility.get_counts(mfws, [unknown] + samples)\n",
    "lengths = Utility.get_lengths([unknown] + samples)\n",
    "frequencies = (counts / lengths.values) * 1000\n",
    "means = frequencies[samples].mean(axis = 1).to_frame('mean')\n",
    "standard_deviations = frequencies[samples].std(axis = 1).to_frame('std')\n",
    "z_scores = (frequencies - means.values) / standard_deviations.values\n",
    "test = z_scores[[unknown]]\n",
    "corpus = z_scores[samples]\n",
    "differences = (test.values - corpus).abs()\n",
    "row = (differences.mean(axis = 0)).to_frame(unknown).transpose()\n",
    "row"
   ]
  },
  {
   "cell_type": "code",
   "execution_count": 4,
   "metadata": {},
   "outputs": [
    {
     "name": "stderr",
     "output_type": "stream",
     "text": [
      "['item']\n",
      "['in', 'non', 'et', 'est', 'de', 'quod', 'qui', 'ad', 'sed', 'unde', 'uel', 'ut', 'si', 'autem', 'cum', 'a', 'ex', 'enim', 'sunt', 'que', 'etiam', 'uero', 'ab', 'ait', 'ergo', 'quia', 'esse', 'per', 'nec', 'his']\n"
     ]
    },
    {
     "data": {
      "text/html": [
       "<div>\n",
       "<style scoped>\n",
       "    .dataframe tbody tr th:only-of-type {\n",
       "        vertical-align: middle;\n",
       "    }\n",
       "\n",
       "    .dataframe tbody tr th {\n",
       "        vertical-align: top;\n",
       "    }\n",
       "\n",
       "    .dataframe thead th {\n",
       "        text-align: right;\n",
       "    }\n",
       "</style>\n",
       "<table border=\"1\" class=\"dataframe\">\n",
       "  <thead>\n",
       "    <tr style=\"text-align: right;\">\n",
       "      <th></th>\n",
       "      <th>Gratian1</th>\n",
       "      <th>dePen</th>\n",
       "      <th>Gratian2</th>\n",
       "    </tr>\n",
       "  </thead>\n",
       "  <tbody>\n",
       "    <tr>\n",
       "      <th>psAug</th>\n",
       "      <td>2.739748</td>\n",
       "      <td>2.508784</td>\n",
       "      <td>2.839132</td>\n",
       "    </tr>\n",
       "  </tbody>\n",
       "</table>\n",
       "</div>"
      ],
      "text/plain": [
       "       Gratian1     dePen  Gratian2\n",
       "psAug  2.739748  2.508784  2.839132"
      ]
     },
     "execution_count": 4,
     "metadata": {},
     "output_type": "execute_result"
    }
   ],
   "source": [
    "limit = 30 # 30 most frequent words (MFWs)\n",
    "samples = ['Gratian1', 'dePen', 'Gratian2']\n",
    "unknown = 'psAug'\n",
    "samples_features = Utility.get_features(samples)\n",
    "unknown_features = Utility.get_features([unknown])\n",
    "missing_features = [word for word in list(samples_features.keys())[:limit] if word not in unknown_features]\n",
    "print(missing_features, file = sys.stderr)\n",
    "features = [word for word in samples_features if word in unknown_features]\n",
    "mfws = features[:limit]\n",
    "print(mfws, file = sys.stderr)\n",
    "counts = Utility.get_counts(mfws, [unknown] + samples)\n",
    "lengths = Utility.get_lengths([unknown] + samples)\n",
    "frequencies = (counts / lengths.values) * 1000\n",
    "means = frequencies[samples].mean(axis = 1).to_frame('mean')\n",
    "standard_deviations = frequencies[samples].std(axis = 1).to_frame('std')\n",
    "z_scores = (frequencies - means.values) / standard_deviations.values\n",
    "test = z_scores[[unknown]]\n",
    "corpus = z_scores[samples]\n",
    "differences = (test.values - corpus).abs()\n",
    "row = (differences.mean(axis = 0)).to_frame(unknown).transpose()\n",
    "row"
   ]
  }
 ],
 "metadata": {
  "kernelspec": {
   "display_name": "Python 3",
   "language": "python",
   "name": "python3"
  },
  "language_info": {
   "codemirror_mode": {
    "name": "ipython",
    "version": 3
   },
   "file_extension": ".py",
   "mimetype": "text/x-python",
   "name": "python",
   "nbconvert_exporter": "python",
   "pygments_lexer": "ipython3",
   "version": "3.8.2"
  }
 },
 "nbformat": 4,
 "nbformat_minor": 2
}

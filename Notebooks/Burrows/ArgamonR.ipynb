{
 "cells": [
  {
   "cell_type": "code",
   "execution_count": 1,
   "metadata": {},
   "outputs": [
    {
     "name": "stderr",
     "output_type": "stream",
     "text": [
      "\n",
      "### stylo version: 0.7.2 ###\n",
      "\n",
      "If you plan to cite this software (please do!), use the following reference:\n",
      "    Eder, M., Rybicki, J. and Kestemont, M. (2016). Stylometry with R:\n",
      "    a package for computational text analysis. R Journal 8(1): 107-121.\n",
      "    <https://journal.r-project.org/archive/2016/RJ-2016-007/index.html>\n",
      "\n",
      "To get full BibTeX entry, type: citation(\"stylo\")\n",
      "\n"
     ]
    }
   ],
   "source": [
    "library(stylo)"
   ]
  },
  {
   "cell_type": "code",
   "execution_count": 2,
   "metadata": {},
   "outputs": [
    {
     "data": {
      "text/plain": [
       "\n",
       "To cite the package 'stylo' in publications use:\n",
       "\n",
       "  Eder, M., Rybicki, J. and Kestemont, M. (2016). Stylometry with R: a\n",
       "  package for computational text analysis. \"R Journal\", 8(1): 107-121.\n",
       "\n",
       "A BibTeX entry for LaTeX users is\n",
       "\n",
       "  @Article{,\n",
       "    title = {Stylometry with R: a package for computational text analysis},\n",
       "    author = {Maciej Eder and Jan Rybicki and Mike Kestemont},\n",
       "    journal = {R Journal},\n",
       "    year = {2016},\n",
       "    volume = {8},\n",
       "    number = {1},\n",
       "    pages = {107--121},\n",
       "    url = {https://journal.r-project.org/archive/2016/RJ-2016-007/index.html},\n",
       "  }\n",
       "\n",
       "We have invested a lot of time and effort in creating 'stylo', please\n",
       "cite it when using it together with R. See also ‘citation()’ for citing\n",
       "R.\n"
      ]
     },
     "metadata": {},
     "output_type": "display_data"
    }
   ],
   "source": [
    "citation(\"stylo\")"
   ]
  },
  {
   "cell_type": "markdown",
   "metadata": {},
   "source": [
    "See [dist.delta function | R Documentation](https://www.rdocumentation.org/packages/stylo/versions/0.7.2/topics/dist.delta)."
   ]
  },
  {
   "cell_type": "code",
   "execution_count": 3,
   "metadata": {},
   "outputs": [
    {
     "data": {
      "text/html": [
       "<table>\n",
       "<caption>A matrix: 3 × 4 of type dbl</caption>\n",
       "<thead>\n",
       "\t<tr><th></th><th scope=col>in</th><th scope=col>non</th><th scope=col>et</th><th scope=col>est</th></tr>\n",
       "</thead>\n",
       "<tbody>\n",
       "\t<tr><th scope=row>Gratian1</th><td>25.56733</td><td>23.98039</td><td>22.79901</td><td>17.01550</td></tr>\n",
       "\t<tr><th scope=row>dePen</th><td>24.99752</td><td>26.78306</td><td>25.79109</td><td>18.05376</td></tr>\n",
       "\t<tr><th scope=row>Gratian2</th><td>28.83199</td><td>21.46615</td><td>24.20203</td><td>11.71519</td></tr>\n",
       "</tbody>\n",
       "</table>\n"
      ],
      "text/latex": [
       "A matrix: 3 × 4 of type dbl\n",
       "\\begin{tabular}{r|llll}\n",
       "  & in & non & et & est\\\\\n",
       "\\hline\n",
       "\tGratian1 & 25.56733 & 23.98039 & 22.79901 & 17.01550\\\\\n",
       "\tdePen & 24.99752 & 26.78306 & 25.79109 & 18.05376\\\\\n",
       "\tGratian2 & 28.83199 & 21.46615 & 24.20203 & 11.71519\\\\\n",
       "\\end{tabular}\n"
      ],
      "text/markdown": [
       "\n",
       "A matrix: 3 × 4 of type dbl\n",
       "\n",
       "| <!--/--> | in | non | et | est |\n",
       "|---|---|---|---|---|\n",
       "| Gratian1 | 25.56733 | 23.98039 | 22.79901 | 17.01550 |\n",
       "| dePen | 24.99752 | 26.78306 | 25.79109 | 18.05376 |\n",
       "| Gratian2 | 28.83199 | 21.46615 | 24.20203 | 11.71519 |\n",
       "\n"
      ],
      "text/plain": [
       "         in       non      et       est     \n",
       "Gratian1 25.56733 23.98039 22.79901 17.01550\n",
       "dePen    24.99752 26.78306 25.79109 18.05376\n",
       "Gratian2 28.83199 21.46615 24.20203 11.71519"
      ]
     },
     "metadata": {},
     "output_type": "display_data"
    }
   ],
   "source": [
    "# Gratian0 = c(20.5270457697642, 6.65742024965326, 19.4174757281553, 3.60610263522885)\n",
    "Gratian1 = c(25.5673302417435, 23.9803925026008, 22.7990055190168, 17.015499091919)\n",
    "dePen    = c(24.9975200872929, 26.7830572363853, 25.7910921535562, 18.0537645074893)\n",
    "Gratian2 = c(28.8319887758681, 21.4661522272887, 24.2020343739039, 11.7151876534549)\n",
    "\n",
    "# dataset = rbind(Gratian0, Gratian1, dePen, Gratian2)\n",
    "dataset = rbind(Gratian1, dePen, Gratian2)\n",
    "colnames(dataset) = c (\"in\", \"non\", \"et\", \"est\")\n",
    "\n",
    "dataset"
   ]
  },
  {
   "cell_type": "code",
   "execution_count": 4,
   "metadata": {},
   "outputs": [
    {
     "data": {
      "text/html": [
       "<table>\n",
       "<caption>A matrix: 4 × 4 of type dbl</caption>\n",
       "<thead>\n",
       "\t<tr><th></th><th scope=col>in.</th><th scope=col>non</th><th scope=col>et</th><th scope=col>est</th></tr>\n",
       "</thead>\n",
       "<tbody>\n",
       "\t<tr><th scope=row>Gratian0</th><td>20.52705</td><td> 6.65742</td><td>19.41748</td><td> 3.606103</td></tr>\n",
       "\t<tr><th scope=row>Gratian1</th><td>25.56733</td><td>23.98039</td><td>22.79901</td><td>17.015499</td></tr>\n",
       "\t<tr><th scope=row>dePen</th><td>24.99752</td><td>26.78306</td><td>25.79109</td><td>18.053765</td></tr>\n",
       "\t<tr><th scope=row>Gratian2</th><td>28.83199</td><td>21.46615</td><td>24.20203</td><td>11.715188</td></tr>\n",
       "</tbody>\n",
       "</table>\n"
      ],
      "text/latex": [
       "A matrix: 4 × 4 of type dbl\n",
       "\\begin{tabular}{r|llll}\n",
       "  & in. & non & et & est\\\\\n",
       "\\hline\n",
       "\tGratian0 & 20.52705 &  6.65742 & 19.41748 &  3.606103\\\\\n",
       "\tGratian1 & 25.56733 & 23.98039 & 22.79901 & 17.015499\\\\\n",
       "\tdePen & 24.99752 & 26.78306 & 25.79109 & 18.053765\\\\\n",
       "\tGratian2 & 28.83199 & 21.46615 & 24.20203 & 11.715188\\\\\n",
       "\\end{tabular}\n"
      ],
      "text/markdown": [
       "\n",
       "A matrix: 4 × 4 of type dbl\n",
       "\n",
       "| <!--/--> | in. | non | et | est |\n",
       "|---|---|---|---|---|\n",
       "| Gratian0 | 20.52705 |  6.65742 | 19.41748 |  3.606103 |\n",
       "| Gratian1 | 25.56733 | 23.98039 | 22.79901 | 17.015499 |\n",
       "| dePen | 24.99752 | 26.78306 | 25.79109 | 18.053765 |\n",
       "| Gratian2 | 28.83199 | 21.46615 | 24.20203 | 11.715188 |\n",
       "\n"
      ],
      "text/plain": [
       "         in.      non      et       est      \n",
       "Gratian0 20.52705  6.65742 19.41748  3.606103\n",
       "Gratian1 25.56733 23.98039 22.79901 17.015499\n",
       "dePen    24.99752 26.78306 25.79109 18.053765\n",
       "Gratian2 28.83199 21.46615 24.20203 11.715188"
      ]
     },
     "metadata": {},
     "output_type": "display_data"
    },
    {
     "data": {
      "text/html": [
       "<table>\n",
       "<caption>A matrix: 4 × 4 of type dbl</caption>\n",
       "<thead>\n",
       "\t<tr><th></th><th scope=col>Gratian0</th><th scope=col>Gratian1</th><th scope=col>dePen</th><th scope=col>Gratian2</th></tr>\n",
       "</thead>\n",
       "<tbody>\n",
       "\t<tr><th scope=row>in.</th><td>20.527046</td><td>25.56733</td><td>24.99752</td><td>28.83199</td></tr>\n",
       "\t<tr><th scope=row>non</th><td> 6.657420</td><td>23.98039</td><td>26.78306</td><td>21.46615</td></tr>\n",
       "\t<tr><th scope=row>et</th><td>19.417476</td><td>22.79901</td><td>25.79109</td><td>24.20203</td></tr>\n",
       "\t<tr><th scope=row>est</th><td> 3.606103</td><td>17.01550</td><td>18.05376</td><td>11.71519</td></tr>\n",
       "</tbody>\n",
       "</table>\n"
      ],
      "text/latex": [
       "A matrix: 4 × 4 of type dbl\n",
       "\\begin{tabular}{r|llll}\n",
       "  & Gratian0 & Gratian1 & dePen & Gratian2\\\\\n",
       "\\hline\n",
       "\tin. & 20.527046 & 25.56733 & 24.99752 & 28.83199\\\\\n",
       "\tnon &  6.657420 & 23.98039 & 26.78306 & 21.46615\\\\\n",
       "\tet & 19.417476 & 22.79901 & 25.79109 & 24.20203\\\\\n",
       "\test &  3.606103 & 17.01550 & 18.05376 & 11.71519\\\\\n",
       "\\end{tabular}\n"
      ],
      "text/markdown": [
       "\n",
       "A matrix: 4 × 4 of type dbl\n",
       "\n",
       "| <!--/--> | Gratian0 | Gratian1 | dePen | Gratian2 |\n",
       "|---|---|---|---|---|\n",
       "| in. | 20.527046 | 25.56733 | 24.99752 | 28.83199 |\n",
       "| non |  6.657420 | 23.98039 | 26.78306 | 21.46615 |\n",
       "| et | 19.417476 | 22.79901 | 25.79109 | 24.20203 |\n",
       "| est |  3.606103 | 17.01550 | 18.05376 | 11.71519 |\n",
       "\n"
      ],
      "text/plain": [
       "    Gratian0  Gratian1 dePen    Gratian2\n",
       "in. 20.527046 25.56733 24.99752 28.83199\n",
       "non  6.657420 23.98039 26.78306 21.46615\n",
       "et  19.417476 22.79901 25.79109 24.20203\n",
       "est  3.606103 17.01550 18.05376 11.71519"
      ]
     },
     "metadata": {},
     "output_type": "display_data"
    }
   ],
   "source": [
    "df <- read.csv(\"./CSVs/frequencies_t.csv\")\n",
    "rownames(df) <- df$X\n",
    "df$X <- NULL\n",
    "as.matrix(df)\n",
    "\n",
    "tmp <- as.matrix(df)\n",
    "t(tmp)"
   ]
  },
  {
   "cell_type": "code",
   "execution_count": 5,
   "metadata": {},
   "outputs": [
    {
     "data": {
      "text/html": [
       "<table>\n",
       "<caption>A matrix: 3 × 3 of type dbl</caption>\n",
       "<thead>\n",
       "\t<tr><th></th><th scope=col>Gratian1</th><th scope=col>dePen</th><th scope=col>Gratian2</th></tr>\n",
       "</thead>\n",
       "<tbody>\n",
       "\t<tr><th scope=row>Gratian1</th><td>0.0000000</td><td>0.5741467</td><td>0.6467315</td></tr>\n",
       "\t<tr><th scope=row>dePen</th><td>0.5741467</td><td>0.0000000</td><td>0.8672335</td></tr>\n",
       "\t<tr><th scope=row>Gratian2</th><td>0.6467315</td><td>0.8672335</td><td>0.0000000</td></tr>\n",
       "</tbody>\n",
       "</table>\n"
      ],
      "text/latex": [
       "A matrix: 3 × 3 of type dbl\n",
       "\\begin{tabular}{r|lll}\n",
       "  & Gratian1 & dePen & Gratian2\\\\\n",
       "\\hline\n",
       "\tGratian1 & 0.0000000 & 0.5741467 & 0.6467315\\\\\n",
       "\tdePen & 0.5741467 & 0.0000000 & 0.8672335\\\\\n",
       "\tGratian2 & 0.6467315 & 0.8672335 & 0.0000000\\\\\n",
       "\\end{tabular}\n"
      ],
      "text/markdown": [
       "\n",
       "A matrix: 3 × 3 of type dbl\n",
       "\n",
       "| <!--/--> | Gratian1 | dePen | Gratian2 |\n",
       "|---|---|---|---|\n",
       "| Gratian1 | 0.0000000 | 0.5741467 | 0.6467315 |\n",
       "| dePen | 0.5741467 | 0.0000000 | 0.8672335 |\n",
       "| Gratian2 | 0.6467315 | 0.8672335 | 0.0000000 |\n",
       "\n"
      ],
      "text/plain": [
       "         Gratian1  dePen     Gratian2 \n",
       "Gratian1 0.0000000 0.5741467 0.6467315\n",
       "dePen    0.5741467 0.0000000 0.8672335\n",
       "Gratian2 0.6467315 0.8672335 0.0000000"
      ]
     },
     "metadata": {},
     "output_type": "display_data"
    }
   ],
   "source": [
    "as.matrix(dist.argamon(dataset))"
   ]
  },
  {
   "cell_type": "code",
   "execution_count": 6,
   "metadata": {},
   "outputs": [
    {
     "data": {
      "text/html": [
       "<table>\n",
       "<caption>A matrix: 4 × 4 of type dbl</caption>\n",
       "<thead>\n",
       "\t<tr><th></th><th scope=col>Gratian0</th><th scope=col>Gratian1</th><th scope=col>dePen</th><th scope=col>Gratian2</th></tr>\n",
       "</thead>\n",
       "<tbody>\n",
       "\t<tr><th scope=row>Gratian0</th><td>0.0000000</td><td>0.8505166</td><td>1.0319130</td><td>0.9098826</td></tr>\n",
       "\t<tr><th scope=row>Gratian1</th><td>0.8505166</td><td>0.0000000</td><td>0.2921207</td><td>0.3448461</td></tr>\n",
       "\t<tr><th scope=row>dePen</th><td>1.0319130</td><td>0.2921207</td><td>0.0000000</td><td>0.4238364</td></tr>\n",
       "\t<tr><th scope=row>Gratian2</th><td>0.9098826</td><td>0.3448461</td><td>0.4238364</td><td>0.0000000</td></tr>\n",
       "</tbody>\n",
       "</table>\n"
      ],
      "text/latex": [
       "A matrix: 4 × 4 of type dbl\n",
       "\\begin{tabular}{r|llll}\n",
       "  & Gratian0 & Gratian1 & dePen & Gratian2\\\\\n",
       "\\hline\n",
       "\tGratian0 & 0.0000000 & 0.8505166 & 1.0319130 & 0.9098826\\\\\n",
       "\tGratian1 & 0.8505166 & 0.0000000 & 0.2921207 & 0.3448461\\\\\n",
       "\tdePen & 1.0319130 & 0.2921207 & 0.0000000 & 0.4238364\\\\\n",
       "\tGratian2 & 0.9098826 & 0.3448461 & 0.4238364 & 0.0000000\\\\\n",
       "\\end{tabular}\n"
      ],
      "text/markdown": [
       "\n",
       "A matrix: 4 × 4 of type dbl\n",
       "\n",
       "| <!--/--> | Gratian0 | Gratian1 | dePen | Gratian2 |\n",
       "|---|---|---|---|---|\n",
       "| Gratian0 | 0.0000000 | 0.8505166 | 1.0319130 | 0.9098826 |\n",
       "| Gratian1 | 0.8505166 | 0.0000000 | 0.2921207 | 0.3448461 |\n",
       "| dePen | 1.0319130 | 0.2921207 | 0.0000000 | 0.4238364 |\n",
       "| Gratian2 | 0.9098826 | 0.3448461 | 0.4238364 | 0.0000000 |\n",
       "\n"
      ],
      "text/plain": [
       "         Gratian0  Gratian1  dePen     Gratian2 \n",
       "Gratian0 0.0000000 0.8505166 1.0319130 0.9098826\n",
       "Gratian1 0.8505166 0.0000000 0.2921207 0.3448461\n",
       "dePen    1.0319130 0.2921207 0.0000000 0.4238364\n",
       "Gratian2 0.9098826 0.3448461 0.4238364 0.0000000"
      ]
     },
     "metadata": {},
     "output_type": "display_data"
    }
   ],
   "source": [
    "as.matrix(dist.argamon(as.matrix(df)))"
   ]
  },
  {
   "cell_type": "code",
   "execution_count": 7,
   "metadata": {},
   "outputs": [
    {
     "data": {
      "text/html": [
       "<table>\n",
       "<caption>A matrix: 3 × 3 of type dbl</caption>\n",
       "<thead>\n",
       "\t<tr><th></th><th scope=col>Gratian1</th><th scope=col>dePen</th><th scope=col>Gratian2</th></tr>\n",
       "</thead>\n",
       "<tbody>\n",
       "\t<tr><th scope=row>Gratian1</th><td>0.0000000</td><td>0.9083091</td><td>1.254852</td></tr>\n",
       "\t<tr><th scope=row>dePen</th><td>0.9083091</td><td>0.0000000</td><td>1.694549</td></tr>\n",
       "\t<tr><th scope=row>Gratian2</th><td>1.2548515</td><td>1.6945493</td><td>0.000000</td></tr>\n",
       "</tbody>\n",
       "</table>\n"
      ],
      "text/latex": [
       "A matrix: 3 × 3 of type dbl\n",
       "\\begin{tabular}{r|lll}\n",
       "  & Gratian1 & dePen & Gratian2\\\\\n",
       "\\hline\n",
       "\tGratian1 & 0.0000000 & 0.9083091 & 1.254852\\\\\n",
       "\tdePen & 0.9083091 & 0.0000000 & 1.694549\\\\\n",
       "\tGratian2 & 1.2548515 & 1.6945493 & 0.000000\\\\\n",
       "\\end{tabular}\n"
      ],
      "text/markdown": [
       "\n",
       "A matrix: 3 × 3 of type dbl\n",
       "\n",
       "| <!--/--> | Gratian1 | dePen | Gratian2 |\n",
       "|---|---|---|---|\n",
       "| Gratian1 | 0.0000000 | 0.9083091 | 1.254852 |\n",
       "| dePen | 0.9083091 | 0.0000000 | 1.694549 |\n",
       "| Gratian2 | 1.2548515 | 1.6945493 | 0.000000 |\n",
       "\n"
      ],
      "text/plain": [
       "         Gratian1  dePen     Gratian2\n",
       "Gratian1 0.0000000 0.9083091 1.254852\n",
       "dePen    0.9083091 0.0000000 1.694549\n",
       "Gratian2 1.2548515 1.6945493 0.000000"
      ]
     },
     "metadata": {},
     "output_type": "display_data"
    }
   ],
   "source": [
    "as.matrix(dist.delta(dataset))"
   ]
  }
 ],
 "metadata": {
  "kernelspec": {
   "display_name": "R",
   "language": "R",
   "name": "ir"
  },
  "language_info": {
   "codemirror_mode": "r",
   "file_extension": ".r",
   "mimetype": "text/x-r-source",
   "name": "R",
   "pygments_lexer": "r",
   "version": "3.6.3"
  }
 },
 "nbformat": 4,
 "nbformat_minor": 4
}
